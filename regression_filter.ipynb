{
 "cells": [
  {
   "cell_type": "code",
   "execution_count": 1,
   "id": "1bc126bd",
   "metadata": {},
   "outputs": [],
   "source": [
    "import numpy as np\n",
    "import pandas as pd\n",
    "\n",
    "import matplotlib.pyplot as plt\n",
    "\n",
    "from sklearn.linear_model import LinearRegression"
   ]
  },
  {
   "cell_type": "code",
   "execution_count": 5,
   "id": "18a60332",
   "metadata": {},
   "outputs": [
    {
     "data": {
      "text/html": [
       "<div>\n",
       "<style scoped>\n",
       "    .dataframe tbody tr th:only-of-type {\n",
       "        vertical-align: middle;\n",
       "    }\n",
       "\n",
       "    .dataframe tbody tr th {\n",
       "        vertical-align: top;\n",
       "    }\n",
       "\n",
       "    .dataframe thead th {\n",
       "        text-align: right;\n",
       "    }\n",
       "</style>\n",
       "<table border=\"1\" class=\"dataframe\">\n",
       "  <thead>\n",
       "    <tr style=\"text-align: right;\">\n",
       "      <th></th>\n",
       "      <th>row ID</th>\n",
       "      <th>row m/z</th>\n",
       "      <th>row retention time</th>\n",
       "      <th>010_1_DIL4_MS1_POS_18_09_19_1-22_01_10028.mzXML Peak area</th>\n",
       "      <th>010_1_DIL4_MS1_POS_18_09_19_1-22_01_10028.mzXML Peak m/z min</th>\n",
       "      <th>010_1_DIL4_MS1_POS_18_09_19_1-22_01_10028.mzXML Peak m/z max</th>\n",
       "      <th>010_1_DIL3_MS1_POS_18_09_19_1-23_01_10029.mzXML Peak area</th>\n",
       "      <th>010_1_DIL3_MS1_POS_18_09_19_1-23_01_10029.mzXML Peak m/z min</th>\n",
       "      <th>010_1_DIL3_MS1_POS_18_09_19_1-23_01_10029.mzXML Peak m/z max</th>\n",
       "      <th>010_1_DIL2_MS1_POS_18_09_19_1-24_01_10030.mzXML Peak area</th>\n",
       "      <th>...</th>\n",
       "      <th>010_2_DIL1_MS1_POS_18_09_19_1-30_01_10049.mzXML Peak area</th>\n",
       "      <th>010_2_DIL1_MS1_POS_18_09_19_1-30_01_10049.mzXML Peak m/z min</th>\n",
       "      <th>010_2_DIL1_MS1_POS_18_09_19_1-30_01_10049.mzXML Peak m/z max</th>\n",
       "      <th>010_1_ORIG_MS1_POS_18_09_19_1-26_01_10032.mzXML Peak area</th>\n",
       "      <th>010_1_ORIG_MS1_POS_18_09_19_1-26_01_10032.mzXML Peak m/z min</th>\n",
       "      <th>010_1_ORIG_MS1_POS_18_09_19_1-26_01_10032.mzXML Peak m/z max</th>\n",
       "      <th>010_2_ORIG_MS1_POS_18_09_19_1-31_01_10050.mzXML Peak area</th>\n",
       "      <th>010_2_ORIG_MS1_POS_18_09_19_1-31_01_10050.mzXML Peak m/z min</th>\n",
       "      <th>010_2_ORIG_MS1_POS_18_09_19_1-31_01_10050.mzXML Peak m/z max</th>\n",
       "      <th>Unnamed: 27</th>\n",
       "    </tr>\n",
       "  </thead>\n",
       "  <tbody>\n",
       "    <tr>\n",
       "      <th>0</th>\n",
       "      <td>1</td>\n",
       "      <td>158.963948</td>\n",
       "      <td>55.019083</td>\n",
       "      <td>1.216098e+08</td>\n",
       "      <td>158.960556</td>\n",
       "      <td>158.964844</td>\n",
       "      <td>1.232941e+08</td>\n",
       "      <td>158.960602</td>\n",
       "      <td>158.964615</td>\n",
       "      <td>1.227249e+08</td>\n",
       "      <td>...</td>\n",
       "      <td>1.138920e+08</td>\n",
       "      <td>158.961044</td>\n",
       "      <td>158.964401</td>\n",
       "      <td>1.236087e+08</td>\n",
       "      <td>158.961319</td>\n",
       "      <td>158.964325</td>\n",
       "      <td>1.176160e+08</td>\n",
       "      <td>158.961411</td>\n",
       "      <td>158.964783</td>\n",
       "      <td>NaN</td>\n",
       "    </tr>\n",
       "    <tr>\n",
       "      <th>1</th>\n",
       "      <td>2</td>\n",
       "      <td>430.913475</td>\n",
       "      <td>55.010729</td>\n",
       "      <td>6.678884e+07</td>\n",
       "      <td>430.909912</td>\n",
       "      <td>430.916229</td>\n",
       "      <td>6.716092e+07</td>\n",
       "      <td>430.909943</td>\n",
       "      <td>430.916138</td>\n",
       "      <td>6.829802e+07</td>\n",
       "      <td>...</td>\n",
       "      <td>6.217709e+07</td>\n",
       "      <td>430.909912</td>\n",
       "      <td>430.915924</td>\n",
       "      <td>6.801420e+07</td>\n",
       "      <td>430.910004</td>\n",
       "      <td>430.916290</td>\n",
       "      <td>6.774835e+07</td>\n",
       "      <td>430.910522</td>\n",
       "      <td>430.916565</td>\n",
       "      <td>NaN</td>\n",
       "    </tr>\n",
       "    <tr>\n",
       "      <th>2</th>\n",
       "      <td>3</td>\n",
       "      <td>338.340631</td>\n",
       "      <td>39.634563</td>\n",
       "      <td>4.146274e+06</td>\n",
       "      <td>338.336792</td>\n",
       "      <td>338.341705</td>\n",
       "      <td>6.336713e+06</td>\n",
       "      <td>338.337677</td>\n",
       "      <td>338.342621</td>\n",
       "      <td>8.273540e+06</td>\n",
       "      <td>...</td>\n",
       "      <td>2.252285e+06</td>\n",
       "      <td>338.338013</td>\n",
       "      <td>338.341705</td>\n",
       "      <td>1.343144e+07</td>\n",
       "      <td>338.338165</td>\n",
       "      <td>338.344330</td>\n",
       "      <td>0.000000e+00</td>\n",
       "      <td>338.340851</td>\n",
       "      <td>338.340851</td>\n",
       "      <td>NaN</td>\n",
       "    </tr>\n",
       "    <tr>\n",
       "      <th>3</th>\n",
       "      <td>4</td>\n",
       "      <td>550.623606</td>\n",
       "      <td>40.773271</td>\n",
       "      <td>9.703602e+06</td>\n",
       "      <td>550.618164</td>\n",
       "      <td>550.630676</td>\n",
       "      <td>1.035002e+07</td>\n",
       "      <td>550.617920</td>\n",
       "      <td>550.628723</td>\n",
       "      <td>1.070345e+07</td>\n",
       "      <td>...</td>\n",
       "      <td>2.618185e+04</td>\n",
       "      <td>550.619446</td>\n",
       "      <td>550.622559</td>\n",
       "      <td>1.192657e+07</td>\n",
       "      <td>550.617981</td>\n",
       "      <td>550.626770</td>\n",
       "      <td>0.000000e+00</td>\n",
       "      <td>550.620239</td>\n",
       "      <td>550.620239</td>\n",
       "      <td>NaN</td>\n",
       "    </tr>\n",
       "    <tr>\n",
       "      <th>4</th>\n",
       "      <td>5</td>\n",
       "      <td>291.244088</td>\n",
       "      <td>31.852389</td>\n",
       "      <td>9.027793e+06</td>\n",
       "      <td>291.240448</td>\n",
       "      <td>291.244659</td>\n",
       "      <td>1.472724e+07</td>\n",
       "      <td>291.241791</td>\n",
       "      <td>291.246216</td>\n",
       "      <td>7.111868e+06</td>\n",
       "      <td>...</td>\n",
       "      <td>0.000000e+00</td>\n",
       "      <td>0.000000</td>\n",
       "      <td>0.000000</td>\n",
       "      <td>9.555513e+06</td>\n",
       "      <td>291.243195</td>\n",
       "      <td>291.247131</td>\n",
       "      <td>0.000000e+00</td>\n",
       "      <td>0.000000</td>\n",
       "      <td>0.000000</td>\n",
       "      <td>NaN</td>\n",
       "    </tr>\n",
       "  </tbody>\n",
       "</table>\n",
       "<p>5 rows × 28 columns</p>\n",
       "</div>"
      ],
      "text/plain": [
       "   row ID     row m/z  row retention time  \\\n",
       "0       1  158.963948           55.019083   \n",
       "1       2  430.913475           55.010729   \n",
       "2       3  338.340631           39.634563   \n",
       "3       4  550.623606           40.773271   \n",
       "4       5  291.244088           31.852389   \n",
       "\n",
       "   010_1_DIL4_MS1_POS_18_09_19_1-22_01_10028.mzXML Peak area  \\\n",
       "0                                       1.216098e+08           \n",
       "1                                       6.678884e+07           \n",
       "2                                       4.146274e+06           \n",
       "3                                       9.703602e+06           \n",
       "4                                       9.027793e+06           \n",
       "\n",
       "   010_1_DIL4_MS1_POS_18_09_19_1-22_01_10028.mzXML Peak m/z min  \\\n",
       "0                                         158.960556              \n",
       "1                                         430.909912              \n",
       "2                                         338.336792              \n",
       "3                                         550.618164              \n",
       "4                                         291.240448              \n",
       "\n",
       "   010_1_DIL4_MS1_POS_18_09_19_1-22_01_10028.mzXML Peak m/z max  \\\n",
       "0                                         158.964844              \n",
       "1                                         430.916229              \n",
       "2                                         338.341705              \n",
       "3                                         550.630676              \n",
       "4                                         291.244659              \n",
       "\n",
       "   010_1_DIL3_MS1_POS_18_09_19_1-23_01_10029.mzXML Peak area  \\\n",
       "0                                       1.232941e+08           \n",
       "1                                       6.716092e+07           \n",
       "2                                       6.336713e+06           \n",
       "3                                       1.035002e+07           \n",
       "4                                       1.472724e+07           \n",
       "\n",
       "   010_1_DIL3_MS1_POS_18_09_19_1-23_01_10029.mzXML Peak m/z min  \\\n",
       "0                                         158.960602              \n",
       "1                                         430.909943              \n",
       "2                                         338.337677              \n",
       "3                                         550.617920              \n",
       "4                                         291.241791              \n",
       "\n",
       "   010_1_DIL3_MS1_POS_18_09_19_1-23_01_10029.mzXML Peak m/z max  \\\n",
       "0                                         158.964615              \n",
       "1                                         430.916138              \n",
       "2                                         338.342621              \n",
       "3                                         550.628723              \n",
       "4                                         291.246216              \n",
       "\n",
       "   010_1_DIL2_MS1_POS_18_09_19_1-24_01_10030.mzXML Peak area  ...  \\\n",
       "0                                       1.227249e+08          ...   \n",
       "1                                       6.829802e+07          ...   \n",
       "2                                       8.273540e+06          ...   \n",
       "3                                       1.070345e+07          ...   \n",
       "4                                       7.111868e+06          ...   \n",
       "\n",
       "   010_2_DIL1_MS1_POS_18_09_19_1-30_01_10049.mzXML Peak area  \\\n",
       "0                                       1.138920e+08           \n",
       "1                                       6.217709e+07           \n",
       "2                                       2.252285e+06           \n",
       "3                                       2.618185e+04           \n",
       "4                                       0.000000e+00           \n",
       "\n",
       "   010_2_DIL1_MS1_POS_18_09_19_1-30_01_10049.mzXML Peak m/z min  \\\n",
       "0                                         158.961044              \n",
       "1                                         430.909912              \n",
       "2                                         338.338013              \n",
       "3                                         550.619446              \n",
       "4                                           0.000000              \n",
       "\n",
       "   010_2_DIL1_MS1_POS_18_09_19_1-30_01_10049.mzXML Peak m/z max  \\\n",
       "0                                         158.964401              \n",
       "1                                         430.915924              \n",
       "2                                         338.341705              \n",
       "3                                         550.622559              \n",
       "4                                           0.000000              \n",
       "\n",
       "   010_1_ORIG_MS1_POS_18_09_19_1-26_01_10032.mzXML Peak area  \\\n",
       "0                                       1.236087e+08           \n",
       "1                                       6.801420e+07           \n",
       "2                                       1.343144e+07           \n",
       "3                                       1.192657e+07           \n",
       "4                                       9.555513e+06           \n",
       "\n",
       "   010_1_ORIG_MS1_POS_18_09_19_1-26_01_10032.mzXML Peak m/z min  \\\n",
       "0                                         158.961319              \n",
       "1                                         430.910004              \n",
       "2                                         338.338165              \n",
       "3                                         550.617981              \n",
       "4                                         291.243195              \n",
       "\n",
       "   010_1_ORIG_MS1_POS_18_09_19_1-26_01_10032.mzXML Peak m/z max  \\\n",
       "0                                         158.964325              \n",
       "1                                         430.916290              \n",
       "2                                         338.344330              \n",
       "3                                         550.626770              \n",
       "4                                         291.247131              \n",
       "\n",
       "   010_2_ORIG_MS1_POS_18_09_19_1-31_01_10050.mzXML Peak area  \\\n",
       "0                                       1.176160e+08           \n",
       "1                                       6.774835e+07           \n",
       "2                                       0.000000e+00           \n",
       "3                                       0.000000e+00           \n",
       "4                                       0.000000e+00           \n",
       "\n",
       "   010_2_ORIG_MS1_POS_18_09_19_1-31_01_10050.mzXML Peak m/z min  \\\n",
       "0                                         158.961411              \n",
       "1                                         430.910522              \n",
       "2                                         338.340851              \n",
       "3                                         550.620239              \n",
       "4                                           0.000000              \n",
       "\n",
       "   010_2_ORIG_MS1_POS_18_09_19_1-31_01_10050.mzXML Peak m/z max  Unnamed: 27  \n",
       "0                                         158.964783                     NaN  \n",
       "1                                         430.916565                     NaN  \n",
       "2                                         338.340851                     NaN  \n",
       "3                                         550.620239                     NaN  \n",
       "4                                           0.000000                     NaN  \n",
       "\n",
       "[5 rows x 28 columns]"
      ]
     },
     "execution_count": 5,
     "metadata": {},
     "output_type": "execute_result"
    }
   ],
   "source": [
    "feat_tab = pd.read_csv('feat_finding/features_010.csv')\n",
    "\n",
    "feat_tab.head()"
   ]
  },
  {
   "cell_type": "code",
   "execution_count": 33,
   "id": "a79af47b",
   "metadata": {},
   "outputs": [
    {
     "data": {
      "text/html": [
       "<div>\n",
       "<style scoped>\n",
       "    .dataframe tbody tr th:only-of-type {\n",
       "        vertical-align: middle;\n",
       "    }\n",
       "\n",
       "    .dataframe tbody tr th {\n",
       "        vertical-align: top;\n",
       "    }\n",
       "\n",
       "    .dataframe thead th {\n",
       "        text-align: right;\n",
       "    }\n",
       "</style>\n",
       "<table border=\"1\" class=\"dataframe\">\n",
       "  <thead>\n",
       "    <tr style=\"text-align: right;\">\n",
       "      <th></th>\n",
       "      <th>010_1_DIL4_MS1_POS_18_09_19_1-22_01_10028.mzXML Peak area</th>\n",
       "      <th>010_1_DIL3_MS1_POS_18_09_19_1-23_01_10029.mzXML Peak area</th>\n",
       "      <th>010_1_DIL2_MS1_POS_18_09_19_1-24_01_10030.mzXML Peak area</th>\n",
       "      <th>010_2_DIL2_MS1_POS_b_18_09_19_1-29_01_10048.mzXML Peak area</th>\n",
       "      <th>010_1_DIL1_MS1_POS_18_09_19_1-25_01_10031.mzXML Peak area</th>\n",
       "      <th>010_2_DIL1_MS1_POS_18_09_19_1-30_01_10049.mzXML Peak area</th>\n",
       "      <th>010_1_ORIG_MS1_POS_18_09_19_1-26_01_10032.mzXML Peak area</th>\n",
       "      <th>010_2_ORIG_MS1_POS_18_09_19_1-31_01_10050.mzXML Peak area</th>\n",
       "    </tr>\n",
       "  </thead>\n",
       "  <tbody>\n",
       "    <tr>\n",
       "      <th>0</th>\n",
       "      <td>1.216098e+08</td>\n",
       "      <td>1.232941e+08</td>\n",
       "      <td>1.227249e+08</td>\n",
       "      <td>1.153370e+08</td>\n",
       "      <td>1.230115e+08</td>\n",
       "      <td>1.138920e+08</td>\n",
       "      <td>1.236087e+08</td>\n",
       "      <td>1.176160e+08</td>\n",
       "    </tr>\n",
       "    <tr>\n",
       "      <th>1</th>\n",
       "      <td>6.678884e+07</td>\n",
       "      <td>6.716092e+07</td>\n",
       "      <td>6.829802e+07</td>\n",
       "      <td>6.616223e+07</td>\n",
       "      <td>6.675091e+07</td>\n",
       "      <td>6.217709e+07</td>\n",
       "      <td>6.801420e+07</td>\n",
       "      <td>6.774835e+07</td>\n",
       "    </tr>\n",
       "    <tr>\n",
       "      <th>2</th>\n",
       "      <td>4.146274e+06</td>\n",
       "      <td>6.336713e+06</td>\n",
       "      <td>8.273540e+06</td>\n",
       "      <td>1.194610e+06</td>\n",
       "      <td>1.070936e+07</td>\n",
       "      <td>2.252285e+06</td>\n",
       "      <td>1.343144e+07</td>\n",
       "      <td>0.000000e+00</td>\n",
       "    </tr>\n",
       "    <tr>\n",
       "      <th>3</th>\n",
       "      <td>9.703602e+06</td>\n",
       "      <td>1.035002e+07</td>\n",
       "      <td>1.070345e+07</td>\n",
       "      <td>4.478000e+04</td>\n",
       "      <td>1.126330e+07</td>\n",
       "      <td>2.618185e+04</td>\n",
       "      <td>1.192657e+07</td>\n",
       "      <td>0.000000e+00</td>\n",
       "    </tr>\n",
       "    <tr>\n",
       "      <th>4</th>\n",
       "      <td>9.027793e+06</td>\n",
       "      <td>1.472724e+07</td>\n",
       "      <td>7.111868e+06</td>\n",
       "      <td>3.515000e+02</td>\n",
       "      <td>8.696732e+06</td>\n",
       "      <td>0.000000e+00</td>\n",
       "      <td>9.555513e+06</td>\n",
       "      <td>0.000000e+00</td>\n",
       "    </tr>\n",
       "  </tbody>\n",
       "</table>\n",
       "</div>"
      ],
      "text/plain": [
       "   010_1_DIL4_MS1_POS_18_09_19_1-22_01_10028.mzXML Peak area  \\\n",
       "0                                       1.216098e+08           \n",
       "1                                       6.678884e+07           \n",
       "2                                       4.146274e+06           \n",
       "3                                       9.703602e+06           \n",
       "4                                       9.027793e+06           \n",
       "\n",
       "   010_1_DIL3_MS1_POS_18_09_19_1-23_01_10029.mzXML Peak area  \\\n",
       "0                                       1.232941e+08           \n",
       "1                                       6.716092e+07           \n",
       "2                                       6.336713e+06           \n",
       "3                                       1.035002e+07           \n",
       "4                                       1.472724e+07           \n",
       "\n",
       "   010_1_DIL2_MS1_POS_18_09_19_1-24_01_10030.mzXML Peak area  \\\n",
       "0                                       1.227249e+08           \n",
       "1                                       6.829802e+07           \n",
       "2                                       8.273540e+06           \n",
       "3                                       1.070345e+07           \n",
       "4                                       7.111868e+06           \n",
       "\n",
       "   010_2_DIL2_MS1_POS_b_18_09_19_1-29_01_10048.mzXML Peak area  \\\n",
       "0                                       1.153370e+08             \n",
       "1                                       6.616223e+07             \n",
       "2                                       1.194610e+06             \n",
       "3                                       4.478000e+04             \n",
       "4                                       3.515000e+02             \n",
       "\n",
       "   010_1_DIL1_MS1_POS_18_09_19_1-25_01_10031.mzXML Peak area  \\\n",
       "0                                       1.230115e+08           \n",
       "1                                       6.675091e+07           \n",
       "2                                       1.070936e+07           \n",
       "3                                       1.126330e+07           \n",
       "4                                       8.696732e+06           \n",
       "\n",
       "   010_2_DIL1_MS1_POS_18_09_19_1-30_01_10049.mzXML Peak area  \\\n",
       "0                                       1.138920e+08           \n",
       "1                                       6.217709e+07           \n",
       "2                                       2.252285e+06           \n",
       "3                                       2.618185e+04           \n",
       "4                                       0.000000e+00           \n",
       "\n",
       "   010_1_ORIG_MS1_POS_18_09_19_1-26_01_10032.mzXML Peak area  \\\n",
       "0                                       1.236087e+08           \n",
       "1                                       6.801420e+07           \n",
       "2                                       1.343144e+07           \n",
       "3                                       1.192657e+07           \n",
       "4                                       9.555513e+06           \n",
       "\n",
       "   010_2_ORIG_MS1_POS_18_09_19_1-31_01_10050.mzXML Peak area  \n",
       "0                                       1.176160e+08          \n",
       "1                                       6.774835e+07          \n",
       "2                                       0.000000e+00          \n",
       "3                                       0.000000e+00          \n",
       "4                                       0.000000e+00          "
      ]
     },
     "execution_count": 33,
     "metadata": {},
     "output_type": "execute_result"
    }
   ],
   "source": [
    "feat_area = feat_tab.copy()[feat_tab.columns[feat_tab.columns.str.contains('Peak area')]]\n",
    "\n",
    "feat_area.head()"
   ]
  },
  {
   "cell_type": "code",
   "execution_count": 14,
   "id": "7117434c",
   "metadata": {},
   "outputs": [
    {
     "name": "stderr",
     "output_type": "stream",
     "text": [
      "/tmp/ipykernel_532091/1539461663.py:1: FutureWarning: The default value of regex will change from True to False in a future version.\n",
      "  feat_area.columns.str.replace('.mzXML Peak area', '').str.split('_').tolist()\n"
     ]
    },
    {
     "data": {
      "text/plain": [
       "[['010', '1', 'DIL4', 'MS1', 'POS', '18', '09', '19', '1-22', '01', '10028'],\n",
       " ['010', '1', 'DIL3', 'MS1', 'POS', '18', '09', '19', '1-23', '01', '10029'],\n",
       " ['010', '1', 'DIL2', 'MS1', 'POS', '18', '09', '19', '1-24', '01', '10030'],\n",
       " ['010',\n",
       "  '2',\n",
       "  'DIL2',\n",
       "  'MS1',\n",
       "  'POS',\n",
       "  'b',\n",
       "  '18',\n",
       "  '09',\n",
       "  '19',\n",
       "  '1-29',\n",
       "  '01',\n",
       "  '10048'],\n",
       " ['010', '1', 'DIL1', 'MS1', 'POS', '18', '09', '19', '1-25', '01', '10031'],\n",
       " ['010', '2', 'DIL1', 'MS1', 'POS', '18', '09', '19', '1-30', '01', '10049'],\n",
       " ['010', '1', 'ORIG', 'MS1', 'POS', '18', '09', '19', '1-26', '01', '10032'],\n",
       " ['010', '2', 'ORIG', 'MS1', 'POS', '18', '09', '19', '1-31', '01', '10050']]"
      ]
     },
     "execution_count": 14,
     "metadata": {},
     "output_type": "execute_result"
    }
   ],
   "source": [
    "feat_area.columns.str.replace('.mzXML Peak area', '').str.split('_').tolist()"
   ]
  },
  {
   "cell_type": "code",
   "execution_count": 28,
   "id": "106a1f48",
   "metadata": {},
   "outputs": [
    {
     "name": "stderr",
     "output_type": "stream",
     "text": [
      "/tmp/ipykernel_532091/4269665227.py:1: FutureWarning: The default value of regex will change from True to False in a future version.\n",
      "  meta = feat_area.columns.str.replace('.mzXML Peak area', '').str.split('_').tolist()\n"
     ]
    },
    {
     "data": {
      "text/plain": [
       "['DIL4', 'DIL3', 'DIL2', 'DIL2', 'DIL1', 'DIL1', 'ORIG', 'ORIG']"
      ]
     },
     "execution_count": 28,
     "metadata": {},
     "output_type": "execute_result"
    }
   ],
   "source": [
    "meta = feat_area.columns.str.replace('.mzXML Peak area', '').str.split('_').tolist()\n",
    "meta = [x[2] for x in meta]\n",
    "        \n",
    "meta"
   ]
  },
  {
   "cell_type": "code",
   "execution_count": 18,
   "id": "86e2bb1a",
   "metadata": {},
   "outputs": [
    {
     "data": {
      "text/plain": [
       "8"
      ]
     },
     "execution_count": 18,
     "metadata": {},
     "output_type": "execute_result"
    }
   ],
   "source": [
    "len(meta)"
   ]
  },
  {
   "cell_type": "code",
   "execution_count": 20,
   "id": "f9037b29",
   "metadata": {},
   "outputs": [
    {
     "data": {
      "text/plain": [
       "(82299, 8)"
      ]
     },
     "execution_count": 20,
     "metadata": {},
     "output_type": "execute_result"
    }
   ],
   "source": [
    "feat_area.shape"
   ]
  },
  {
   "cell_type": "code",
   "execution_count": 24,
   "id": "83a5c9cd",
   "metadata": {},
   "outputs": [
    {
     "data": {
      "text/plain": [
       "010_1_DIL4_MS1_POS_18_09_19_1-22_01_10028.mzXML Peak area      1.0\n",
       "010_1_DIL3_MS1_POS_18_09_19_1-23_01_10029.mzXML Peak area      1.0\n",
       "010_1_DIL2_MS1_POS_18_09_19_1-24_01_10030.mzXML Peak area      1.0\n",
       "010_2_DIL2_MS1_POS_b_18_09_19_1-29_01_10048.mzXML Peak area    1.0\n",
       "010_1_DIL1_MS1_POS_18_09_19_1-25_01_10031.mzXML Peak area      1.0\n",
       "010_2_DIL1_MS1_POS_18_09_19_1-30_01_10049.mzXML Peak area      1.0\n",
       "010_1_ORIG_MS1_POS_18_09_19_1-26_01_10032.mzXML Peak area      1.0\n",
       "010_2_ORIG_MS1_POS_18_09_19_1-31_01_10050.mzXML Peak area      1.0\n",
       "dtype: float64"
      ]
     },
     "execution_count": 24,
     "metadata": {},
     "output_type": "execute_result"
    }
   ],
   "source": [
    "feat_area.head().apply(lambda a: a/a.sum()).sum()"
   ]
  },
  {
   "cell_type": "code",
   "execution_count": 26,
   "id": "a0903968",
   "metadata": {},
   "outputs": [
    {
     "data": {
      "text/plain": [
       "1.0"
      ]
     },
     "execution_count": 26,
     "metadata": {},
     "output_type": "execute_result"
    }
   ],
   "source": [
    "feat_area.head().apply(lambda a: a/a.sum()).iloc[:,0].sum()"
   ]
  },
  {
   "cell_type": "code",
   "execution_count": 34,
   "id": "659f673d",
   "metadata": {},
   "outputs": [
    {
     "data": {
      "text/plain": [
       "0.9999999999999997"
      ]
     },
     "execution_count": 34,
     "metadata": {},
     "output_type": "execute_result"
    }
   ],
   "source": [
    "feat_area = feat_area.apply(lambda a: a/a.sum())\n",
    "\n",
    "feat_area.iloc[:,0].sum()"
   ]
  },
  {
   "cell_type": "code",
   "execution_count": 35,
   "id": "f35773e5",
   "metadata": {},
   "outputs": [
    {
     "data": {
      "text/html": [
       "<div>\n",
       "<style scoped>\n",
       "    .dataframe tbody tr th:only-of-type {\n",
       "        vertical-align: middle;\n",
       "    }\n",
       "\n",
       "    .dataframe tbody tr th {\n",
       "        vertical-align: top;\n",
       "    }\n",
       "\n",
       "    .dataframe thead th {\n",
       "        text-align: right;\n",
       "    }\n",
       "</style>\n",
       "<table border=\"1\" class=\"dataframe\">\n",
       "  <thead>\n",
       "    <tr style=\"text-align: right;\">\n",
       "      <th></th>\n",
       "      <th>0</th>\n",
       "      <th>1</th>\n",
       "      <th>2</th>\n",
       "      <th>3</th>\n",
       "      <th>4</th>\n",
       "      <th>5</th>\n",
       "      <th>6</th>\n",
       "      <th>7</th>\n",
       "      <th>8</th>\n",
       "      <th>9</th>\n",
       "      <th>...</th>\n",
       "      <th>82290</th>\n",
       "      <th>82291</th>\n",
       "      <th>82292</th>\n",
       "      <th>82293</th>\n",
       "      <th>82294</th>\n",
       "      <th>82295</th>\n",
       "      <th>82296</th>\n",
       "      <th>82297</th>\n",
       "      <th>82298</th>\n",
       "      <th>Groups</th>\n",
       "    </tr>\n",
       "  </thead>\n",
       "  <tbody>\n",
       "    <tr>\n",
       "      <th>0</th>\n",
       "      <td>0.156958</td>\n",
       "      <td>0.086202</td>\n",
       "      <td>0.005351</td>\n",
       "      <td>0.012524</td>\n",
       "      <td>1.165189e-02</td>\n",
       "      <td>0.026284</td>\n",
       "      <td>0.008679</td>\n",
       "      <td>0.004442</td>\n",
       "      <td>0.006262</td>\n",
       "      <td>0.006230</td>\n",
       "      <td>...</td>\n",
       "      <td>6.517875e-08</td>\n",
       "      <td>1.064801e-07</td>\n",
       "      <td>6.453341e-08</td>\n",
       "      <td>2.287774e-07</td>\n",
       "      <td>1.529442e-07</td>\n",
       "      <td>2.711436e-07</td>\n",
       "      <td>1.632695e-07</td>\n",
       "      <td>1.755309e-07</td>\n",
       "      <td>3.207311e-07</td>\n",
       "      <td>DIL4</td>\n",
       "    </tr>\n",
       "    <tr>\n",
       "      <th>1</th>\n",
       "      <td>0.123120</td>\n",
       "      <td>0.067066</td>\n",
       "      <td>0.006328</td>\n",
       "      <td>0.010335</td>\n",
       "      <td>1.470643e-02</td>\n",
       "      <td>0.020605</td>\n",
       "      <td>0.006804</td>\n",
       "      <td>0.005872</td>\n",
       "      <td>0.004250</td>\n",
       "      <td>0.004872</td>\n",
       "      <td>...</td>\n",
       "      <td>4.843148e-08</td>\n",
       "      <td>1.447951e-08</td>\n",
       "      <td>7.139898e-08</td>\n",
       "      <td>1.612718e-07</td>\n",
       "      <td>1.467474e-07</td>\n",
       "      <td>2.621291e-07</td>\n",
       "      <td>0.000000e+00</td>\n",
       "      <td>1.962224e-07</td>\n",
       "      <td>2.395361e-07</td>\n",
       "      <td>DIL3</td>\n",
       "    </tr>\n",
       "    <tr>\n",
       "      <th>2</th>\n",
       "      <td>0.101906</td>\n",
       "      <td>0.056712</td>\n",
       "      <td>0.006870</td>\n",
       "      <td>0.008888</td>\n",
       "      <td>5.905409e-03</td>\n",
       "      <td>0.017475</td>\n",
       "      <td>0.005290</td>\n",
       "      <td>0.007986</td>\n",
       "      <td>0.002580</td>\n",
       "      <td>0.004064</td>\n",
       "      <td>...</td>\n",
       "      <td>6.435289e-08</td>\n",
       "      <td>3.072331e-08</td>\n",
       "      <td>7.639310e-08</td>\n",
       "      <td>2.474472e-07</td>\n",
       "      <td>2.549205e-07</td>\n",
       "      <td>3.263314e-07</td>\n",
       "      <td>0.000000e+00</td>\n",
       "      <td>2.918549e-07</td>\n",
       "      <td>3.944209e-07</td>\n",
       "      <td>DIL2</td>\n",
       "    </tr>\n",
       "    <tr>\n",
       "      <th>3</th>\n",
       "      <td>0.059091</td>\n",
       "      <td>0.033897</td>\n",
       "      <td>0.000612</td>\n",
       "      <td>0.000023</td>\n",
       "      <td>1.800841e-07</td>\n",
       "      <td>0.010876</td>\n",
       "      <td>0.000000</td>\n",
       "      <td>0.000000</td>\n",
       "      <td>0.000013</td>\n",
       "      <td>0.002968</td>\n",
       "      <td>...</td>\n",
       "      <td>5.545977e-07</td>\n",
       "      <td>0.000000e+00</td>\n",
       "      <td>6.916461e-08</td>\n",
       "      <td>2.426397e-06</td>\n",
       "      <td>0.000000e+00</td>\n",
       "      <td>3.419806e-07</td>\n",
       "      <td>2.025831e-07</td>\n",
       "      <td>3.834793e-07</td>\n",
       "      <td>2.131712e-06</td>\n",
       "      <td>DIL2</td>\n",
       "    </tr>\n",
       "    <tr>\n",
       "      <th>4</th>\n",
       "      <td>0.063653</td>\n",
       "      <td>0.034541</td>\n",
       "      <td>0.005542</td>\n",
       "      <td>0.005828</td>\n",
       "      <td>4.500198e-03</td>\n",
       "      <td>0.010837</td>\n",
       "      <td>0.003132</td>\n",
       "      <td>0.007403</td>\n",
       "      <td>0.000731</td>\n",
       "      <td>0.002573</td>\n",
       "      <td>...</td>\n",
       "      <td>1.192742e-07</td>\n",
       "      <td>2.613166e-08</td>\n",
       "      <td>4.139668e-08</td>\n",
       "      <td>1.593772e-07</td>\n",
       "      <td>2.033612e-07</td>\n",
       "      <td>3.474734e-07</td>\n",
       "      <td>0.000000e+00</td>\n",
       "      <td>1.562673e-07</td>\n",
       "      <td>2.106211e-07</td>\n",
       "      <td>DIL1</td>\n",
       "    </tr>\n",
       "  </tbody>\n",
       "</table>\n",
       "<p>5 rows × 82300 columns</p>\n",
       "</div>"
      ],
      "text/plain": [
       "          0         1         2         3             4         5         6  \\\n",
       "0  0.156958  0.086202  0.005351  0.012524  1.165189e-02  0.026284  0.008679   \n",
       "1  0.123120  0.067066  0.006328  0.010335  1.470643e-02  0.020605  0.006804   \n",
       "2  0.101906  0.056712  0.006870  0.008888  5.905409e-03  0.017475  0.005290   \n",
       "3  0.059091  0.033897  0.000612  0.000023  1.800841e-07  0.010876  0.000000   \n",
       "4  0.063653  0.034541  0.005542  0.005828  4.500198e-03  0.010837  0.003132   \n",
       "\n",
       "          7         8         9  ...         82290         82291  \\\n",
       "0  0.004442  0.006262  0.006230  ...  6.517875e-08  1.064801e-07   \n",
       "1  0.005872  0.004250  0.004872  ...  4.843148e-08  1.447951e-08   \n",
       "2  0.007986  0.002580  0.004064  ...  6.435289e-08  3.072331e-08   \n",
       "3  0.000000  0.000013  0.002968  ...  5.545977e-07  0.000000e+00   \n",
       "4  0.007403  0.000731  0.002573  ...  1.192742e-07  2.613166e-08   \n",
       "\n",
       "          82292         82293         82294         82295         82296  \\\n",
       "0  6.453341e-08  2.287774e-07  1.529442e-07  2.711436e-07  1.632695e-07   \n",
       "1  7.139898e-08  1.612718e-07  1.467474e-07  2.621291e-07  0.000000e+00   \n",
       "2  7.639310e-08  2.474472e-07  2.549205e-07  3.263314e-07  0.000000e+00   \n",
       "3  6.916461e-08  2.426397e-06  0.000000e+00  3.419806e-07  2.025831e-07   \n",
       "4  4.139668e-08  1.593772e-07  2.033612e-07  3.474734e-07  0.000000e+00   \n",
       "\n",
       "          82297         82298  Groups  \n",
       "0  1.755309e-07  3.207311e-07    DIL4  \n",
       "1  1.962224e-07  2.395361e-07    DIL3  \n",
       "2  2.918549e-07  3.944209e-07    DIL2  \n",
       "3  3.834793e-07  2.131712e-06    DIL2  \n",
       "4  1.562673e-07  2.106211e-07    DIL1  \n",
       "\n",
       "[5 rows x 82300 columns]"
      ]
     },
     "execution_count": 35,
     "metadata": {},
     "output_type": "execute_result"
    }
   ],
   "source": [
    "feat_area = feat_area.T\n",
    "feat_area.reset_index(inplace=True, drop=True)\n",
    "feat_area['Groups'] = meta\n",
    "\n",
    "feat_area"
   ]
  },
  {
   "cell_type": "code",
   "execution_count": 36,
   "id": "7e022bb0",
   "metadata": {},
   "outputs": [
    {
     "data": {
      "text/html": [
       "<div>\n",
       "<style scoped>\n",
       "    .dataframe tbody tr th:only-of-type {\n",
       "        vertical-align: middle;\n",
       "    }\n",
       "\n",
       "    .dataframe tbody tr th {\n",
       "        vertical-align: top;\n",
       "    }\n",
       "\n",
       "    .dataframe thead th {\n",
       "        text-align: right;\n",
       "    }\n",
       "</style>\n",
       "<table border=\"1\" class=\"dataframe\">\n",
       "  <thead>\n",
       "    <tr style=\"text-align: right;\">\n",
       "      <th></th>\n",
       "      <th>0</th>\n",
       "      <th>1</th>\n",
       "      <th>2</th>\n",
       "      <th>3</th>\n",
       "      <th>4</th>\n",
       "      <th>5</th>\n",
       "      <th>6</th>\n",
       "      <th>7</th>\n",
       "      <th>8</th>\n",
       "      <th>9</th>\n",
       "      <th>...</th>\n",
       "      <th>82290</th>\n",
       "      <th>82291</th>\n",
       "      <th>82292</th>\n",
       "      <th>82293</th>\n",
       "      <th>82294</th>\n",
       "      <th>82295</th>\n",
       "      <th>82296</th>\n",
       "      <th>82297</th>\n",
       "      <th>82298</th>\n",
       "      <th>Groups</th>\n",
       "    </tr>\n",
       "  </thead>\n",
       "  <tbody>\n",
       "    <tr>\n",
       "      <th>0</th>\n",
       "      <td>0.156958</td>\n",
       "      <td>0.086202</td>\n",
       "      <td>0.005351</td>\n",
       "      <td>0.012524</td>\n",
       "      <td>1.165189e-02</td>\n",
       "      <td>0.026284</td>\n",
       "      <td>8.678722e-03</td>\n",
       "      <td>0.004442</td>\n",
       "      <td>6.262093e-03</td>\n",
       "      <td>0.006230</td>\n",
       "      <td>...</td>\n",
       "      <td>6.517875e-08</td>\n",
       "      <td>1.064801e-07</td>\n",
       "      <td>6.453341e-08</td>\n",
       "      <td>2.287774e-07</td>\n",
       "      <td>1.529442e-07</td>\n",
       "      <td>2.711436e-07</td>\n",
       "      <td>1.632695e-07</td>\n",
       "      <td>1.755309e-07</td>\n",
       "      <td>3.207311e-07</td>\n",
       "      <td>DIL4</td>\n",
       "    </tr>\n",
       "    <tr>\n",
       "      <th>1</th>\n",
       "      <td>0.123120</td>\n",
       "      <td>0.067066</td>\n",
       "      <td>0.006328</td>\n",
       "      <td>0.010335</td>\n",
       "      <td>1.470643e-02</td>\n",
       "      <td>0.020605</td>\n",
       "      <td>6.804337e-03</td>\n",
       "      <td>0.005872</td>\n",
       "      <td>4.250468e-03</td>\n",
       "      <td>0.004872</td>\n",
       "      <td>...</td>\n",
       "      <td>4.843148e-08</td>\n",
       "      <td>1.447951e-08</td>\n",
       "      <td>7.139898e-08</td>\n",
       "      <td>1.612718e-07</td>\n",
       "      <td>1.467474e-07</td>\n",
       "      <td>2.621291e-07</td>\n",
       "      <td>0.000000e+00</td>\n",
       "      <td>1.962224e-07</td>\n",
       "      <td>2.395361e-07</td>\n",
       "      <td>DIL3</td>\n",
       "    </tr>\n",
       "    <tr>\n",
       "      <th>2</th>\n",
       "      <td>0.101906</td>\n",
       "      <td>0.056712</td>\n",
       "      <td>0.006870</td>\n",
       "      <td>0.008888</td>\n",
       "      <td>5.905409e-03</td>\n",
       "      <td>0.017475</td>\n",
       "      <td>5.290164e-03</td>\n",
       "      <td>0.007986</td>\n",
       "      <td>2.579702e-03</td>\n",
       "      <td>0.004064</td>\n",
       "      <td>...</td>\n",
       "      <td>6.435289e-08</td>\n",
       "      <td>3.072331e-08</td>\n",
       "      <td>7.639310e-08</td>\n",
       "      <td>2.474472e-07</td>\n",
       "      <td>2.549205e-07</td>\n",
       "      <td>3.263314e-07</td>\n",
       "      <td>0.000000e+00</td>\n",
       "      <td>2.918549e-07</td>\n",
       "      <td>3.944209e-07</td>\n",
       "      <td>DIL2</td>\n",
       "    </tr>\n",
       "    <tr>\n",
       "      <th>3</th>\n",
       "      <td>0.059091</td>\n",
       "      <td>0.033897</td>\n",
       "      <td>0.000612</td>\n",
       "      <td>0.000023</td>\n",
       "      <td>1.800841e-07</td>\n",
       "      <td>0.010876</td>\n",
       "      <td>0.000000e+00</td>\n",
       "      <td>0.000000</td>\n",
       "      <td>1.256629e-05</td>\n",
       "      <td>0.002968</td>\n",
       "      <td>...</td>\n",
       "      <td>5.545977e-07</td>\n",
       "      <td>0.000000e+00</td>\n",
       "      <td>6.916461e-08</td>\n",
       "      <td>2.426397e-06</td>\n",
       "      <td>0.000000e+00</td>\n",
       "      <td>3.419806e-07</td>\n",
       "      <td>2.025831e-07</td>\n",
       "      <td>3.834793e-07</td>\n",
       "      <td>2.131712e-06</td>\n",
       "      <td>DIL2</td>\n",
       "    </tr>\n",
       "    <tr>\n",
       "      <th>4</th>\n",
       "      <td>0.063653</td>\n",
       "      <td>0.034541</td>\n",
       "      <td>0.005542</td>\n",
       "      <td>0.005828</td>\n",
       "      <td>4.500198e-03</td>\n",
       "      <td>0.010837</td>\n",
       "      <td>3.131673e-03</td>\n",
       "      <td>0.007403</td>\n",
       "      <td>7.312864e-04</td>\n",
       "      <td>0.002573</td>\n",
       "      <td>...</td>\n",
       "      <td>1.192742e-07</td>\n",
       "      <td>2.613166e-08</td>\n",
       "      <td>4.139668e-08</td>\n",
       "      <td>1.593772e-07</td>\n",
       "      <td>2.033612e-07</td>\n",
       "      <td>3.474734e-07</td>\n",
       "      <td>0.000000e+00</td>\n",
       "      <td>1.562673e-07</td>\n",
       "      <td>2.106211e-07</td>\n",
       "      <td>DIL1</td>\n",
       "    </tr>\n",
       "    <tr>\n",
       "      <th>5</th>\n",
       "      <td>0.026736</td>\n",
       "      <td>0.014596</td>\n",
       "      <td>0.000529</td>\n",
       "      <td>0.000006</td>\n",
       "      <td>0.000000e+00</td>\n",
       "      <td>0.004801</td>\n",
       "      <td>0.000000e+00</td>\n",
       "      <td>0.000000</td>\n",
       "      <td>1.823059e-06</td>\n",
       "      <td>0.001332</td>\n",
       "      <td>...</td>\n",
       "      <td>1.403224e-06</td>\n",
       "      <td>0.000000e+00</td>\n",
       "      <td>0.000000e+00</td>\n",
       "      <td>1.362131e-07</td>\n",
       "      <td>8.054895e-07</td>\n",
       "      <td>2.822881e-07</td>\n",
       "      <td>1.011660e-06</td>\n",
       "      <td>5.486719e-07</td>\n",
       "      <td>1.593159e-06</td>\n",
       "      <td>DIL1</td>\n",
       "    </tr>\n",
       "    <tr>\n",
       "      <th>6</th>\n",
       "      <td>0.042953</td>\n",
       "      <td>0.023634</td>\n",
       "      <td>0.004667</td>\n",
       "      <td>0.004144</td>\n",
       "      <td>3.320456e-03</td>\n",
       "      <td>0.007331</td>\n",
       "      <td>2.033243e-03</td>\n",
       "      <td>0.006859</td>\n",
       "      <td>1.663784e-04</td>\n",
       "      <td>0.001712</td>\n",
       "      <td>...</td>\n",
       "      <td>1.164095e-07</td>\n",
       "      <td>0.000000e+00</td>\n",
       "      <td>0.000000e+00</td>\n",
       "      <td>1.546006e-07</td>\n",
       "      <td>7.731679e-08</td>\n",
       "      <td>3.433213e-07</td>\n",
       "      <td>0.000000e+00</td>\n",
       "      <td>1.763518e-07</td>\n",
       "      <td>9.350987e-07</td>\n",
       "      <td>ORIG</td>\n",
       "    </tr>\n",
       "    <tr>\n",
       "      <th>7</th>\n",
       "      <td>0.015196</td>\n",
       "      <td>0.008753</td>\n",
       "      <td>0.000000</td>\n",
       "      <td>0.000000</td>\n",
       "      <td>0.000000e+00</td>\n",
       "      <td>0.002875</td>\n",
       "      <td>2.041960e-07</td>\n",
       "      <td>0.000000</td>\n",
       "      <td>1.928912e-07</td>\n",
       "      <td>0.000785</td>\n",
       "      <td>...</td>\n",
       "      <td>0.000000e+00</td>\n",
       "      <td>9.445907e-07</td>\n",
       "      <td>7.687871e-07</td>\n",
       "      <td>0.000000e+00</td>\n",
       "      <td>0.000000e+00</td>\n",
       "      <td>0.000000e+00</td>\n",
       "      <td>0.000000e+00</td>\n",
       "      <td>0.000000e+00</td>\n",
       "      <td>0.000000e+00</td>\n",
       "      <td>ORIG</td>\n",
       "    </tr>\n",
       "  </tbody>\n",
       "</table>\n",
       "<p>8 rows × 82300 columns</p>\n",
       "</div>"
      ],
      "text/plain": [
       "          0         1         2         3             4         5  \\\n",
       "0  0.156958  0.086202  0.005351  0.012524  1.165189e-02  0.026284   \n",
       "1  0.123120  0.067066  0.006328  0.010335  1.470643e-02  0.020605   \n",
       "2  0.101906  0.056712  0.006870  0.008888  5.905409e-03  0.017475   \n",
       "3  0.059091  0.033897  0.000612  0.000023  1.800841e-07  0.010876   \n",
       "4  0.063653  0.034541  0.005542  0.005828  4.500198e-03  0.010837   \n",
       "5  0.026736  0.014596  0.000529  0.000006  0.000000e+00  0.004801   \n",
       "6  0.042953  0.023634  0.004667  0.004144  3.320456e-03  0.007331   \n",
       "7  0.015196  0.008753  0.000000  0.000000  0.000000e+00  0.002875   \n",
       "\n",
       "              6         7             8         9  ...         82290  \\\n",
       "0  8.678722e-03  0.004442  6.262093e-03  0.006230  ...  6.517875e-08   \n",
       "1  6.804337e-03  0.005872  4.250468e-03  0.004872  ...  4.843148e-08   \n",
       "2  5.290164e-03  0.007986  2.579702e-03  0.004064  ...  6.435289e-08   \n",
       "3  0.000000e+00  0.000000  1.256629e-05  0.002968  ...  5.545977e-07   \n",
       "4  3.131673e-03  0.007403  7.312864e-04  0.002573  ...  1.192742e-07   \n",
       "5  0.000000e+00  0.000000  1.823059e-06  0.001332  ...  1.403224e-06   \n",
       "6  2.033243e-03  0.006859  1.663784e-04  0.001712  ...  1.164095e-07   \n",
       "7  2.041960e-07  0.000000  1.928912e-07  0.000785  ...  0.000000e+00   \n",
       "\n",
       "          82291         82292         82293         82294         82295  \\\n",
       "0  1.064801e-07  6.453341e-08  2.287774e-07  1.529442e-07  2.711436e-07   \n",
       "1  1.447951e-08  7.139898e-08  1.612718e-07  1.467474e-07  2.621291e-07   \n",
       "2  3.072331e-08  7.639310e-08  2.474472e-07  2.549205e-07  3.263314e-07   \n",
       "3  0.000000e+00  6.916461e-08  2.426397e-06  0.000000e+00  3.419806e-07   \n",
       "4  2.613166e-08  4.139668e-08  1.593772e-07  2.033612e-07  3.474734e-07   \n",
       "5  0.000000e+00  0.000000e+00  1.362131e-07  8.054895e-07  2.822881e-07   \n",
       "6  0.000000e+00  0.000000e+00  1.546006e-07  7.731679e-08  3.433213e-07   \n",
       "7  9.445907e-07  7.687871e-07  0.000000e+00  0.000000e+00  0.000000e+00   \n",
       "\n",
       "          82296         82297         82298  Groups  \n",
       "0  1.632695e-07  1.755309e-07  3.207311e-07    DIL4  \n",
       "1  0.000000e+00  1.962224e-07  2.395361e-07    DIL3  \n",
       "2  0.000000e+00  2.918549e-07  3.944209e-07    DIL2  \n",
       "3  2.025831e-07  3.834793e-07  2.131712e-06    DIL2  \n",
       "4  0.000000e+00  1.562673e-07  2.106211e-07    DIL1  \n",
       "5  1.011660e-06  5.486719e-07  1.593159e-06    DIL1  \n",
       "6  0.000000e+00  1.763518e-07  9.350987e-07    ORIG  \n",
       "7  0.000000e+00  0.000000e+00  0.000000e+00    ORIG  \n",
       "\n",
       "[8 rows x 82300 columns]"
      ]
     },
     "execution_count": 36,
     "metadata": {},
     "output_type": "execute_result"
    }
   ],
   "source": [
    "feat_area"
   ]
  },
  {
   "cell_type": "code",
   "execution_count": 37,
   "id": "58c37906",
   "metadata": {},
   "outputs": [
    {
     "data": {
      "text/html": [
       "<div>\n",
       "<style scoped>\n",
       "    .dataframe tbody tr th:only-of-type {\n",
       "        vertical-align: middle;\n",
       "    }\n",
       "\n",
       "    .dataframe tbody tr th {\n",
       "        vertical-align: top;\n",
       "    }\n",
       "\n",
       "    .dataframe thead th {\n",
       "        text-align: right;\n",
       "    }\n",
       "</style>\n",
       "<table border=\"1\" class=\"dataframe\">\n",
       "  <thead>\n",
       "    <tr style=\"text-align: right;\">\n",
       "      <th></th>\n",
       "      <th>0</th>\n",
       "      <th>1</th>\n",
       "      <th>2</th>\n",
       "      <th>3</th>\n",
       "      <th>4</th>\n",
       "      <th>5</th>\n",
       "      <th>6</th>\n",
       "      <th>7</th>\n",
       "      <th>8</th>\n",
       "      <th>9</th>\n",
       "      <th>...</th>\n",
       "      <th>82289</th>\n",
       "      <th>82290</th>\n",
       "      <th>82291</th>\n",
       "      <th>82292</th>\n",
       "      <th>82293</th>\n",
       "      <th>82294</th>\n",
       "      <th>82295</th>\n",
       "      <th>82296</th>\n",
       "      <th>82297</th>\n",
       "      <th>82298</th>\n",
       "    </tr>\n",
       "    <tr>\n",
       "      <th>Groups</th>\n",
       "      <th></th>\n",
       "      <th></th>\n",
       "      <th></th>\n",
       "      <th></th>\n",
       "      <th></th>\n",
       "      <th></th>\n",
       "      <th></th>\n",
       "      <th></th>\n",
       "      <th></th>\n",
       "      <th></th>\n",
       "      <th></th>\n",
       "      <th></th>\n",
       "      <th></th>\n",
       "      <th></th>\n",
       "      <th></th>\n",
       "      <th></th>\n",
       "      <th></th>\n",
       "      <th></th>\n",
       "      <th></th>\n",
       "      <th></th>\n",
       "      <th></th>\n",
       "    </tr>\n",
       "  </thead>\n",
       "  <tbody>\n",
       "    <tr>\n",
       "      <th>DIL1</th>\n",
       "      <td>0.045195</td>\n",
       "      <td>0.024568</td>\n",
       "      <td>0.003035</td>\n",
       "      <td>0.002917</td>\n",
       "      <td>0.002250</td>\n",
       "      <td>0.007819</td>\n",
       "      <td>0.001566</td>\n",
       "      <td>0.003702</td>\n",
       "      <td>0.000367</td>\n",
       "      <td>0.001952</td>\n",
       "      <td>...</td>\n",
       "      <td>1.273768e-07</td>\n",
       "      <td>7.612493e-07</td>\n",
       "      <td>1.306583e-08</td>\n",
       "      <td>2.069834e-08</td>\n",
       "      <td>1.477952e-07</td>\n",
       "      <td>5.044254e-07</td>\n",
       "      <td>3.148808e-07</td>\n",
       "      <td>5.058298e-07</td>\n",
       "      <td>3.524696e-07</td>\n",
       "      <td>9.018901e-07</td>\n",
       "    </tr>\n",
       "    <tr>\n",
       "      <th>DIL2</th>\n",
       "      <td>0.080498</td>\n",
       "      <td>0.045304</td>\n",
       "      <td>0.003741</td>\n",
       "      <td>0.004455</td>\n",
       "      <td>0.002953</td>\n",
       "      <td>0.014175</td>\n",
       "      <td>0.002645</td>\n",
       "      <td>0.003993</td>\n",
       "      <td>0.001296</td>\n",
       "      <td>0.003516</td>\n",
       "      <td>...</td>\n",
       "      <td>1.214157e-07</td>\n",
       "      <td>3.094753e-07</td>\n",
       "      <td>1.536166e-08</td>\n",
       "      <td>7.277886e-08</td>\n",
       "      <td>1.336922e-06</td>\n",
       "      <td>1.274602e-07</td>\n",
       "      <td>3.341560e-07</td>\n",
       "      <td>1.012916e-07</td>\n",
       "      <td>3.376671e-07</td>\n",
       "      <td>1.263067e-06</td>\n",
       "    </tr>\n",
       "    <tr>\n",
       "      <th>DIL3</th>\n",
       "      <td>0.123120</td>\n",
       "      <td>0.067066</td>\n",
       "      <td>0.006328</td>\n",
       "      <td>0.010335</td>\n",
       "      <td>0.014706</td>\n",
       "      <td>0.020605</td>\n",
       "      <td>0.006804</td>\n",
       "      <td>0.005872</td>\n",
       "      <td>0.004250</td>\n",
       "      <td>0.004872</td>\n",
       "      <td>...</td>\n",
       "      <td>4.185578e-08</td>\n",
       "      <td>4.843148e-08</td>\n",
       "      <td>1.447951e-08</td>\n",
       "      <td>7.139898e-08</td>\n",
       "      <td>1.612718e-07</td>\n",
       "      <td>1.467474e-07</td>\n",
       "      <td>2.621291e-07</td>\n",
       "      <td>0.000000e+00</td>\n",
       "      <td>1.962224e-07</td>\n",
       "      <td>2.395361e-07</td>\n",
       "    </tr>\n",
       "    <tr>\n",
       "      <th>DIL4</th>\n",
       "      <td>0.156958</td>\n",
       "      <td>0.086202</td>\n",
       "      <td>0.005351</td>\n",
       "      <td>0.012524</td>\n",
       "      <td>0.011652</td>\n",
       "      <td>0.026284</td>\n",
       "      <td>0.008679</td>\n",
       "      <td>0.004442</td>\n",
       "      <td>0.006262</td>\n",
       "      <td>0.006230</td>\n",
       "      <td>...</td>\n",
       "      <td>4.065605e-08</td>\n",
       "      <td>6.517875e-08</td>\n",
       "      <td>1.064801e-07</td>\n",
       "      <td>6.453341e-08</td>\n",
       "      <td>2.287774e-07</td>\n",
       "      <td>1.529442e-07</td>\n",
       "      <td>2.711436e-07</td>\n",
       "      <td>1.632695e-07</td>\n",
       "      <td>1.755309e-07</td>\n",
       "      <td>3.207311e-07</td>\n",
       "    </tr>\n",
       "    <tr>\n",
       "      <th>ORIG</th>\n",
       "      <td>0.029074</td>\n",
       "      <td>0.016194</td>\n",
       "      <td>0.002334</td>\n",
       "      <td>0.002072</td>\n",
       "      <td>0.001660</td>\n",
       "      <td>0.005103</td>\n",
       "      <td>0.001017</td>\n",
       "      <td>0.003430</td>\n",
       "      <td>0.000083</td>\n",
       "      <td>0.001249</td>\n",
       "      <td>...</td>\n",
       "      <td>2.019699e-07</td>\n",
       "      <td>5.820477e-08</td>\n",
       "      <td>4.722954e-07</td>\n",
       "      <td>3.843935e-07</td>\n",
       "      <td>7.730028e-08</td>\n",
       "      <td>3.865839e-08</td>\n",
       "      <td>1.716606e-07</td>\n",
       "      <td>0.000000e+00</td>\n",
       "      <td>8.817589e-08</td>\n",
       "      <td>4.675494e-07</td>\n",
       "    </tr>\n",
       "  </tbody>\n",
       "</table>\n",
       "<p>5 rows × 82299 columns</p>\n",
       "</div>"
      ],
      "text/plain": [
       "           0         1         2         3         4         5         6      \\\n",
       "Groups                                                                         \n",
       "DIL1    0.045195  0.024568  0.003035  0.002917  0.002250  0.007819  0.001566   \n",
       "DIL2    0.080498  0.045304  0.003741  0.004455  0.002953  0.014175  0.002645   \n",
       "DIL3    0.123120  0.067066  0.006328  0.010335  0.014706  0.020605  0.006804   \n",
       "DIL4    0.156958  0.086202  0.005351  0.012524  0.011652  0.026284  0.008679   \n",
       "ORIG    0.029074  0.016194  0.002334  0.002072  0.001660  0.005103  0.001017   \n",
       "\n",
       "           7         8         9      ...         82289         82290  \\\n",
       "Groups                                ...                               \n",
       "DIL1    0.003702  0.000367  0.001952  ...  1.273768e-07  7.612493e-07   \n",
       "DIL2    0.003993  0.001296  0.003516  ...  1.214157e-07  3.094753e-07   \n",
       "DIL3    0.005872  0.004250  0.004872  ...  4.185578e-08  4.843148e-08   \n",
       "DIL4    0.004442  0.006262  0.006230  ...  4.065605e-08  6.517875e-08   \n",
       "ORIG    0.003430  0.000083  0.001249  ...  2.019699e-07  5.820477e-08   \n",
       "\n",
       "               82291         82292         82293         82294         82295  \\\n",
       "Groups                                                                         \n",
       "DIL1    1.306583e-08  2.069834e-08  1.477952e-07  5.044254e-07  3.148808e-07   \n",
       "DIL2    1.536166e-08  7.277886e-08  1.336922e-06  1.274602e-07  3.341560e-07   \n",
       "DIL3    1.447951e-08  7.139898e-08  1.612718e-07  1.467474e-07  2.621291e-07   \n",
       "DIL4    1.064801e-07  6.453341e-08  2.287774e-07  1.529442e-07  2.711436e-07   \n",
       "ORIG    4.722954e-07  3.843935e-07  7.730028e-08  3.865839e-08  1.716606e-07   \n",
       "\n",
       "               82296         82297         82298  \n",
       "Groups                                            \n",
       "DIL1    5.058298e-07  3.524696e-07  9.018901e-07  \n",
       "DIL2    1.012916e-07  3.376671e-07  1.263067e-06  \n",
       "DIL3    0.000000e+00  1.962224e-07  2.395361e-07  \n",
       "DIL4    1.632695e-07  1.755309e-07  3.207311e-07  \n",
       "ORIG    0.000000e+00  8.817589e-08  4.675494e-07  \n",
       "\n",
       "[5 rows x 82299 columns]"
      ]
     },
     "execution_count": 37,
     "metadata": {},
     "output_type": "execute_result"
    }
   ],
   "source": [
    "feat_area.groupby('Groups').mean()"
   ]
  },
  {
   "cell_type": "code",
   "execution_count": 39,
   "id": "30a23630",
   "metadata": {},
   "outputs": [
    {
     "data": {
      "text/plain": [
       "0.04519482153165339"
      ]
     },
     "execution_count": 39,
     "metadata": {},
     "output_type": "execute_result"
    }
   ],
   "source": [
    "feat_area.loc[feat_area.Groups=='DIL1', 0].mean()"
   ]
  },
  {
   "cell_type": "code",
   "execution_count": 40,
   "id": "b45f9df7",
   "metadata": {},
   "outputs": [
    {
     "data": {
      "text/html": [
       "<div>\n",
       "<style scoped>\n",
       "    .dataframe tbody tr th:only-of-type {\n",
       "        vertical-align: middle;\n",
       "    }\n",
       "\n",
       "    .dataframe tbody tr th {\n",
       "        vertical-align: top;\n",
       "    }\n",
       "\n",
       "    .dataframe thead th {\n",
       "        text-align: right;\n",
       "    }\n",
       "</style>\n",
       "<table border=\"1\" class=\"dataframe\">\n",
       "  <thead>\n",
       "    <tr style=\"text-align: right;\">\n",
       "      <th></th>\n",
       "      <th>0</th>\n",
       "      <th>1</th>\n",
       "      <th>2</th>\n",
       "      <th>3</th>\n",
       "      <th>4</th>\n",
       "      <th>5</th>\n",
       "      <th>6</th>\n",
       "      <th>7</th>\n",
       "      <th>8</th>\n",
       "      <th>9</th>\n",
       "      <th>...</th>\n",
       "      <th>82289</th>\n",
       "      <th>82290</th>\n",
       "      <th>82291</th>\n",
       "      <th>82292</th>\n",
       "      <th>82293</th>\n",
       "      <th>82294</th>\n",
       "      <th>82295</th>\n",
       "      <th>82296</th>\n",
       "      <th>82297</th>\n",
       "      <th>82298</th>\n",
       "    </tr>\n",
       "    <tr>\n",
       "      <th>Groups</th>\n",
       "      <th></th>\n",
       "      <th></th>\n",
       "      <th></th>\n",
       "      <th></th>\n",
       "      <th></th>\n",
       "      <th></th>\n",
       "      <th></th>\n",
       "      <th></th>\n",
       "      <th></th>\n",
       "      <th></th>\n",
       "      <th></th>\n",
       "      <th></th>\n",
       "      <th></th>\n",
       "      <th></th>\n",
       "      <th></th>\n",
       "      <th></th>\n",
       "      <th></th>\n",
       "      <th></th>\n",
       "      <th></th>\n",
       "      <th></th>\n",
       "      <th></th>\n",
       "    </tr>\n",
       "  </thead>\n",
       "  <tbody>\n",
       "    <tr>\n",
       "      <th>DIL1</th>\n",
       "      <td>0.045195</td>\n",
       "      <td>0.024568</td>\n",
       "      <td>0.003035</td>\n",
       "      <td>0.002917</td>\n",
       "      <td>0.002250</td>\n",
       "      <td>0.007819</td>\n",
       "      <td>0.001566</td>\n",
       "      <td>0.003702</td>\n",
       "      <td>0.000367</td>\n",
       "      <td>0.001952</td>\n",
       "      <td>...</td>\n",
       "      <td>1.273768e-07</td>\n",
       "      <td>7.612493e-07</td>\n",
       "      <td>1.306583e-08</td>\n",
       "      <td>2.069834e-08</td>\n",
       "      <td>1.477952e-07</td>\n",
       "      <td>5.044254e-07</td>\n",
       "      <td>3.148808e-07</td>\n",
       "      <td>5.058298e-07</td>\n",
       "      <td>3.524696e-07</td>\n",
       "      <td>9.018901e-07</td>\n",
       "    </tr>\n",
       "    <tr>\n",
       "      <th>DIL2</th>\n",
       "      <td>0.080498</td>\n",
       "      <td>0.045304</td>\n",
       "      <td>0.003741</td>\n",
       "      <td>0.004455</td>\n",
       "      <td>0.002953</td>\n",
       "      <td>0.014175</td>\n",
       "      <td>0.002645</td>\n",
       "      <td>0.003993</td>\n",
       "      <td>0.001296</td>\n",
       "      <td>0.003516</td>\n",
       "      <td>...</td>\n",
       "      <td>1.214157e-07</td>\n",
       "      <td>3.094753e-07</td>\n",
       "      <td>1.536166e-08</td>\n",
       "      <td>7.277886e-08</td>\n",
       "      <td>1.336922e-06</td>\n",
       "      <td>1.274602e-07</td>\n",
       "      <td>3.341560e-07</td>\n",
       "      <td>1.012916e-07</td>\n",
       "      <td>3.376671e-07</td>\n",
       "      <td>1.263067e-06</td>\n",
       "    </tr>\n",
       "    <tr>\n",
       "      <th>DIL3</th>\n",
       "      <td>0.123120</td>\n",
       "      <td>0.067066</td>\n",
       "      <td>0.006328</td>\n",
       "      <td>0.010335</td>\n",
       "      <td>0.014706</td>\n",
       "      <td>0.020605</td>\n",
       "      <td>0.006804</td>\n",
       "      <td>0.005872</td>\n",
       "      <td>0.004250</td>\n",
       "      <td>0.004872</td>\n",
       "      <td>...</td>\n",
       "      <td>4.185578e-08</td>\n",
       "      <td>4.843148e-08</td>\n",
       "      <td>1.447951e-08</td>\n",
       "      <td>7.139898e-08</td>\n",
       "      <td>1.612718e-07</td>\n",
       "      <td>1.467474e-07</td>\n",
       "      <td>2.621291e-07</td>\n",
       "      <td>0.000000e+00</td>\n",
       "      <td>1.962224e-07</td>\n",
       "      <td>2.395361e-07</td>\n",
       "    </tr>\n",
       "    <tr>\n",
       "      <th>DIL4</th>\n",
       "      <td>0.156958</td>\n",
       "      <td>0.086202</td>\n",
       "      <td>0.005351</td>\n",
       "      <td>0.012524</td>\n",
       "      <td>0.011652</td>\n",
       "      <td>0.026284</td>\n",
       "      <td>0.008679</td>\n",
       "      <td>0.004442</td>\n",
       "      <td>0.006262</td>\n",
       "      <td>0.006230</td>\n",
       "      <td>...</td>\n",
       "      <td>4.065605e-08</td>\n",
       "      <td>6.517875e-08</td>\n",
       "      <td>1.064801e-07</td>\n",
       "      <td>6.453341e-08</td>\n",
       "      <td>2.287774e-07</td>\n",
       "      <td>1.529442e-07</td>\n",
       "      <td>2.711436e-07</td>\n",
       "      <td>1.632695e-07</td>\n",
       "      <td>1.755309e-07</td>\n",
       "      <td>3.207311e-07</td>\n",
       "    </tr>\n",
       "    <tr>\n",
       "      <th>ORIG</th>\n",
       "      <td>0.029074</td>\n",
       "      <td>0.016194</td>\n",
       "      <td>0.002334</td>\n",
       "      <td>0.002072</td>\n",
       "      <td>0.001660</td>\n",
       "      <td>0.005103</td>\n",
       "      <td>0.001017</td>\n",
       "      <td>0.003430</td>\n",
       "      <td>0.000083</td>\n",
       "      <td>0.001249</td>\n",
       "      <td>...</td>\n",
       "      <td>2.019699e-07</td>\n",
       "      <td>5.820477e-08</td>\n",
       "      <td>4.722954e-07</td>\n",
       "      <td>3.843935e-07</td>\n",
       "      <td>7.730028e-08</td>\n",
       "      <td>3.865839e-08</td>\n",
       "      <td>1.716606e-07</td>\n",
       "      <td>0.000000e+00</td>\n",
       "      <td>8.817589e-08</td>\n",
       "      <td>4.675494e-07</td>\n",
       "    </tr>\n",
       "  </tbody>\n",
       "</table>\n",
       "<p>5 rows × 82299 columns</p>\n",
       "</div>"
      ],
      "text/plain": [
       "           0         1         2         3         4         5         6      \\\n",
       "Groups                                                                         \n",
       "DIL1    0.045195  0.024568  0.003035  0.002917  0.002250  0.007819  0.001566   \n",
       "DIL2    0.080498  0.045304  0.003741  0.004455  0.002953  0.014175  0.002645   \n",
       "DIL3    0.123120  0.067066  0.006328  0.010335  0.014706  0.020605  0.006804   \n",
       "DIL4    0.156958  0.086202  0.005351  0.012524  0.011652  0.026284  0.008679   \n",
       "ORIG    0.029074  0.016194  0.002334  0.002072  0.001660  0.005103  0.001017   \n",
       "\n",
       "           7         8         9      ...         82289         82290  \\\n",
       "Groups                                ...                               \n",
       "DIL1    0.003702  0.000367  0.001952  ...  1.273768e-07  7.612493e-07   \n",
       "DIL2    0.003993  0.001296  0.003516  ...  1.214157e-07  3.094753e-07   \n",
       "DIL3    0.005872  0.004250  0.004872  ...  4.185578e-08  4.843148e-08   \n",
       "DIL4    0.004442  0.006262  0.006230  ...  4.065605e-08  6.517875e-08   \n",
       "ORIG    0.003430  0.000083  0.001249  ...  2.019699e-07  5.820477e-08   \n",
       "\n",
       "               82291         82292         82293         82294         82295  \\\n",
       "Groups                                                                         \n",
       "DIL1    1.306583e-08  2.069834e-08  1.477952e-07  5.044254e-07  3.148808e-07   \n",
       "DIL2    1.536166e-08  7.277886e-08  1.336922e-06  1.274602e-07  3.341560e-07   \n",
       "DIL3    1.447951e-08  7.139898e-08  1.612718e-07  1.467474e-07  2.621291e-07   \n",
       "DIL4    1.064801e-07  6.453341e-08  2.287774e-07  1.529442e-07  2.711436e-07   \n",
       "ORIG    4.722954e-07  3.843935e-07  7.730028e-08  3.865839e-08  1.716606e-07   \n",
       "\n",
       "               82296         82297         82298  \n",
       "Groups                                            \n",
       "DIL1    5.058298e-07  3.524696e-07  9.018901e-07  \n",
       "DIL2    1.012916e-07  3.376671e-07  1.263067e-06  \n",
       "DIL3    0.000000e+00  1.962224e-07  2.395361e-07  \n",
       "DIL4    1.632695e-07  1.755309e-07  3.207311e-07  \n",
       "ORIG    0.000000e+00  8.817589e-08  4.675494e-07  \n",
       "\n",
       "[5 rows x 82299 columns]"
      ]
     },
     "execution_count": 40,
     "metadata": {},
     "output_type": "execute_result"
    }
   ],
   "source": [
    "feat_area = feat_area.groupby('Groups').mean()\n",
    "\n",
    "feat_area"
   ]
  },
  {
   "cell_type": "code",
   "execution_count": 52,
   "id": "a1d58876",
   "metadata": {},
   "outputs": [
    {
     "name": "stderr",
     "output_type": "stream",
     "text": [
      "/tmp/ipykernel_532091/1130553577.py:1: FutureWarning: The default value of regex will change from True to False in a future version.\n",
      "  feat_area.index.str.replace('[^0-9]', '').str.replace('^$', '0')\n"
     ]
    },
    {
     "data": {
      "text/plain": [
       "Index(['1', '2', '3', '4', '0'], dtype='object', name='Groups')"
      ]
     },
     "execution_count": 52,
     "metadata": {},
     "output_type": "execute_result"
    }
   ],
   "source": [
    "feat_area.index.str.replace('[^0-9]', '').str.replace('^$', '0')"
   ]
  },
  {
   "cell_type": "code",
   "execution_count": 89,
   "id": "98ff9358",
   "metadata": {},
   "outputs": [
    {
     "name": "stderr",
     "output_type": "stream",
     "text": [
      "/tmp/ipykernel_532091/838900981.py:1: FutureWarning: The default value of regex will change from True to False in a future version.\n",
      "  y = feat_area.index.str.replace('[^0-9]', '').str.replace('^$', '0').tolist()\n"
     ]
    },
    {
     "data": {
      "text/plain": [
       "array([[1.],\n",
       "       [2.],\n",
       "       [3.],\n",
       "       [4.],\n",
       "       [0.]])"
      ]
     },
     "execution_count": 89,
     "metadata": {},
     "output_type": "execute_result"
    }
   ],
   "source": [
    "y = feat_area.index.str.replace('[^0-9]', '').str.replace('^$', '0').tolist()\n",
    "\n",
    "y = np.array([float(i) for i in y]).reshape(-1, 1)\n",
    "\n",
    "y"
   ]
  },
  {
   "cell_type": "code",
   "execution_count": 60,
   "id": "ddc67697",
   "metadata": {},
   "outputs": [],
   "source": [
    "reg = LinearRegression()"
   ]
  },
  {
   "cell_type": "code",
   "execution_count": 68,
   "id": "27104e15",
   "metadata": {},
   "outputs": [
    {
     "data": {
      "text/plain": [
       "array([[0.04519482],\n",
       "       [0.08049824],\n",
       "       [0.12311987],\n",
       "       [0.15695791],\n",
       "       [0.02907428]])"
      ]
     },
     "execution_count": 68,
     "metadata": {},
     "output_type": "execute_result"
    }
   ],
   "source": [
    "feat_area[0].to_numpy().reshape(-1, 1)"
   ]
  },
  {
   "cell_type": "code",
   "execution_count": 71,
   "id": "9157c883",
   "metadata": {},
   "outputs": [
    {
     "data": {
      "text/plain": [
       "LinearRegression()"
      ]
     },
     "execution_count": 71,
     "metadata": {},
     "output_type": "execute_result"
    }
   ],
   "source": [
    "X = feat_area[0].to_numpy().reshape(-1, 1)\n",
    "reg.fit(X, y)"
   ]
  },
  {
   "cell_type": "code",
   "execution_count": 72,
   "id": "1c1636a5",
   "metadata": {},
   "outputs": [
    {
     "data": {
      "text/plain": [
       "0.981573775583974"
      ]
     },
     "execution_count": 72,
     "metadata": {},
     "output_type": "execute_result"
    }
   ],
   "source": [
    "reg.score(X, y)"
   ]
  },
  {
   "cell_type": "code",
   "execution_count": 73,
   "id": "361abe2d",
   "metadata": {},
   "outputs": [
    {
     "data": {
      "text/plain": [
       "array([[29.41553423]])"
      ]
     },
     "execution_count": 73,
     "metadata": {},
     "output_type": "execute_result"
    }
   ],
   "source": [
    "reg.coef_ "
   ]
  },
  {
   "cell_type": "code",
   "execution_count": 99,
   "id": "2cf59123",
   "metadata": {},
   "outputs": [
    {
     "data": {
      "text/plain": [
       "array([[False]])"
      ]
     },
     "execution_count": 99,
     "metadata": {},
     "output_type": "execute_result"
    }
   ],
   "source": [
    "reg.coef_  < 0"
   ]
  },
  {
   "cell_type": "code",
   "execution_count": 101,
   "id": "dc19e676",
   "metadata": {},
   "outputs": [
    {
     "data": {
      "text/plain": [
       "29.415534226202396"
      ]
     },
     "execution_count": 101,
     "metadata": {},
     "output_type": "execute_result"
    }
   ],
   "source": [
    "reg.coef_[0][0]"
   ]
  },
  {
   "cell_type": "code",
   "execution_count": 74,
   "id": "58a27b9e",
   "metadata": {},
   "outputs": [
    {
     "data": {
      "text/plain": [
       "array([[0.77118948],\n",
       "       [1.80965833],\n",
       "       [3.06339652],\n",
       "       [4.05876051],\n",
       "       [0.29699516]])"
      ]
     },
     "execution_count": 74,
     "metadata": {},
     "output_type": "execute_result"
    }
   ],
   "source": [
    "reg.predict(X)"
   ]
  },
  {
   "cell_type": "code",
   "execution_count": 112,
   "id": "1e7aaf9b",
   "metadata": {},
   "outputs": [
    {
     "data": {
      "text/plain": [
       "([<matplotlib.axis.XTick at 0x7fec5827efd0>,\n",
       "  <matplotlib.axis.XTick at 0x7fec5827efa0>,\n",
       "  <matplotlib.axis.XTick at 0x7fec5827ee20>,\n",
       "  <matplotlib.axis.XTick at 0x7fec5845d250>,\n",
       "  <matplotlib.axis.XTick at 0x7fec5845d9a0>],\n",
       " [Text(0, 0, '0'),\n",
       "  Text(1, 0, '1'),\n",
       "  Text(2, 0, '2'),\n",
       "  Text(3, 0, '3'),\n",
       "  Text(4, 0, '4')])"
      ]
     },
     "execution_count": 112,
     "metadata": {},
     "output_type": "execute_result"
    },
    {
     "data": {
      "image/png": "[encoded data removed]",
      "text/plain": [
       "<Figure size 432x288 with 1 Axes>"
      ]
     },
     "metadata": {
      "needs_background": "light"
     },
     "output_type": "display_data"
    }
   ],
   "source": [
    "plt.scatter(y, X)\n",
    "\n",
    "plt.plot(reg.predict(X), X)\n",
    "\n",
    "plt.ylabel('Área Normalizada')\n",
    "plt.xlabel('Diluição')\n",
    "\n",
    "plt.xticks([0, 1, 2, 3, 4], ['0', '1', '2', '3', '4'])"
   ]
  },
  {
   "cell_type": "code",
   "execution_count": 114,
   "id": "1dfe07fd",
   "metadata": {},
   "outputs": [],
   "source": [
    "def filterReg(X, y, r2=0.9, sig='-', plot=False):\n",
    "    X = X.reshape(-1, 1)\n",
    "    reg = LinearRegression()\n",
    "    reg.fit(X, y)\n",
    "    sc = reg.score(X, y)\n",
    "    b1 = reg.coef_[0][0]\n",
    "    \n",
    "    if plot:\n",
    "        plt.scatter(y, X)\n",
    "\n",
    "        plt.plot(reg.predict(X), X)\n",
    "\n",
    "        plt.ylabel('Área Normalizada')\n",
    "        plt.xlabel('Diluição')\n",
    "\n",
    "        plt.xticks([0, 1, 2, 3, 4], ['0', '1', '2', '3', '4'])\n",
    "    \n",
    "    if sig=='-':\n",
    "        if sc > r2 and b1 < 0:\n",
    "            return 1\n",
    "        else:\n",
    "            return 0\n",
    "    else:\n",
    "        if sc > r2 and b1 > 0:\n",
    "            return 1\n",
    "        else:\n",
    "            return 0       "
   ]
  },
  {
   "cell_type": "code",
   "execution_count": 106,
   "id": "9ec88ab0",
   "metadata": {},
   "outputs": [
    {
     "data": {
      "text/plain": [
       "0"
      ]
     },
     "execution_count": 106,
     "metadata": {},
     "output_type": "execute_result"
    }
   ],
   "source": [
    "filterReg(feat_area[0].to_numpy(), y)"
   ]
  },
  {
   "cell_type": "code",
   "execution_count": 107,
   "id": "66afd0bc",
   "metadata": {},
   "outputs": [
    {
     "data": {
      "text/plain": [
       "0        0\n",
       "1        0\n",
       "2        0\n",
       "3        0\n",
       "4        0\n",
       "        ..\n",
       "82294    0\n",
       "82295    0\n",
       "82296    0\n",
       "82297    0\n",
       "82298    0\n",
       "Length: 82299, dtype: int64"
      ]
     },
     "execution_count": 107,
     "metadata": {},
     "output_type": "execute_result"
    }
   ],
   "source": [
    "sel = feat_area.apply(lambda a: filterReg(a.to_numpy(), y))\n",
    "\n",
    "sel"
   ]
  },
  {
   "cell_type": "code",
   "execution_count": 108,
   "id": "b61e9aef",
   "metadata": {},
   "outputs": [
    {
     "data": {
      "text/plain": [
       "1593"
      ]
     },
     "execution_count": 108,
     "metadata": {},
     "output_type": "execute_result"
    }
   ],
   "source": [
    "sel.sum()"
   ]
  },
  {
   "cell_type": "code",
   "execution_count": 113,
   "id": "31ca1802",
   "metadata": {},
   "outputs": [
    {
     "data": {
      "text/plain": [
       "211      1\n",
       "255      1\n",
       "311      1\n",
       "401      1\n",
       "544      1\n",
       "        ..\n",
       "82063    1\n",
       "82093    1\n",
       "82240    1\n",
       "82268    1\n",
       "82289    1\n",
       "Length: 1593, dtype: int64"
      ]
     },
     "execution_count": 113,
     "metadata": {},
     "output_type": "execute_result"
    }
   ],
   "source": [
    "sel[sel==1]"
   ]
  },
  {
   "cell_type": "code",
   "execution_count": 116,
   "id": "6e9c074e",
   "metadata": {},
   "outputs": [
    {
     "data": {
      "text/plain": [
       "1"
      ]
     },
     "execution_count": 116,
     "metadata": {},
     "output_type": "execute_result"
    },
    {
     "data": {
      "image/png": "[encoded data removed]",
      "text/plain": [
       "<Figure size 432x288 with 1 Axes>"
      ]
     },
     "metadata": {
      "needs_background": "light"
     },
     "output_type": "display_data"
    }
   ],
   "source": [
    "filterReg(feat_area[211].to_numpy(), y, plot=True)"
   ]
  },
  {
   "cell_type": "code",
   "execution_count": 143,
   "id": "096c97b4",
   "metadata": {},
   "outputs": [
    {
     "data": {
      "text/plain": [
       "1"
      ]
     },
     "execution_count": 143,
     "metadata": {},
     "output_type": "execute_result"
    },
    {
     "data": {
      "image/png": "[encoded data removed]",
      "text/plain": [
       "<Figure size 432x288 with 1 Axes>"
      ]
     },
     "metadata": {
      "needs_background": "light"
     },
     "output_type": "display_data"
    }
   ],
   "source": [
    "filterReg(feat_area[82063].to_numpy(), y, plot=True)"
   ]
  },
  {
   "cell_type": "code",
   "execution_count": 131,
   "id": "230d4758",
   "metadata": {},
   "outputs": [],
   "source": [
    "def filterFeatures(features, col_pattern='Peak area', meta=None,\n",
    "                   norm=True, r2=0.9, sig='-'):\n",
    "    if type(features)==str:\n",
    "        feat_tab = pd.read_csv(features)\n",
    "    else:\n",
    "        feat_tab = features\n",
    "    \n",
    "    feat_area = feat_tab.copy()[feat_tab.columns[feat_tab.columns.str.contains(col_pattern)]]\n",
    "    if meta is None:\n",
    "        meta = feat_area.columns.str.replace('.mzXML Peak area', '').str.split('_').tolist()\n",
    "        # assumes DILX dilution factor is on position 3\n",
    "        meta = [x[2] for x in meta]\n",
    "    \n",
    "    # Normalize samples\n",
    "    # scale?\n",
    "    if norm:\n",
    "        feat_area = feat_area.apply(lambda a: a/a.sum())\n",
    "    \n",
    "    # move features to columns and adds metadata\n",
    "    feat_area = feat_area.T\n",
    "    feat_area.reset_index(inplace=True, drop=True)\n",
    "    feat_area['Groups'] = meta\n",
    "    \n",
    "    # Average technical replicates\n",
    "    feat_area = feat_area.groupby('Groups').mean()\n",
    "\n",
    "    # Assumes number describing increasing or decreacing ibdex for dilution\n",
    "    # here ORI is used for original sample\n",
    "    y = feat_area.index.str.replace('[^0-9]', '').str.replace('^$', '0').tolist()\n",
    "    y = np.array([float(i) for i in y]).reshape(-1, 1)\n",
    "\n",
    "    sel = feat_area.apply(lambda a: filterReg(a.to_numpy(), y, r2=r2, sig=sig))\n",
    "    \n",
    "    return sel    "
   ]
  },
  {
   "cell_type": "code",
   "execution_count": 123,
   "id": "d2d56121",
   "metadata": {},
   "outputs": [
    {
     "data": {
      "text/plain": [
       "False"
      ]
     },
     "execution_count": 123,
     "metadata": {},
     "output_type": "execute_result"
    }
   ],
   "source": [
    "meta is None"
   ]
  },
  {
   "cell_type": "code",
   "execution_count": 121,
   "id": "12ced2a5",
   "metadata": {},
   "outputs": [
    {
     "data": {
      "text/plain": [
       "82299"
      ]
     },
     "execution_count": 121,
     "metadata": {},
     "output_type": "execute_result"
    }
   ],
   "source": [
    "feat_area = feat_area.groupby('Groups').mean()"
   ]
  },
  {
   "cell_type": "code",
   "execution_count": 138,
   "id": "c64414bb",
   "metadata": {},
   "outputs": [
    {
     "name": "stdout",
     "output_type": "stream",
     "text": [
      "CPU times: user 1.62 ms, sys: 26 µs, total: 1.65 ms\n",
      "Wall time: 5.23 ms\n"
     ]
    },
    {
     "data": {
      "text/plain": [
       "1593"
      ]
     },
     "execution_count": 138,
     "metadata": {},
     "output_type": "execute_result"
    }
   ],
   "source": [
    "%%time\n",
    "sel.sum()"
   ]
  },
  {
   "cell_type": "code",
   "execution_count": 132,
   "id": "28758c34",
   "metadata": {},
   "outputs": [
    {
     "name": "stdout",
     "output_type": "stream",
     "text": [
      "CPU times: user 4 µs, sys: 0 ns, total: 4 µs\n",
      "Wall time: 7.39 µs\n"
     ]
    },
    {
     "name": "stderr",
     "output_type": "stream",
     "text": [
      "/tmp/ipykernel_532091/2270231998.py:10: FutureWarning: The default value of regex will change from True to False in a future version.\n",
      "  meta = feat_area.columns.str.replace('.mzXML Peak area', '').str.split('_').tolist()\n",
      "/tmp/ipykernel_532091/2270231998.py:29: FutureWarning: The default value of regex will change from True to False in a future version.\n",
      "  y = feat_area.index.str.replace('[^0-9]', '').str.replace('^$', '0').tolist()\n"
     ]
    }
   ],
   "source": [
    "%time\n",
    "\n",
    "sel010 = filterFeatures('feat_finding/features_010.csv')"
   ]
  },
  {
   "cell_type": "code",
   "execution_count": 133,
   "id": "02559a55",
   "metadata": {},
   "outputs": [
    {
     "data": {
      "text/plain": [
       "1593"
      ]
     },
     "execution_count": 133,
     "metadata": {},
     "output_type": "execute_result"
    }
   ],
   "source": [
    "sel010.sum()"
   ]
  },
  {
   "cell_type": "code",
   "execution_count": 139,
   "id": "895c257d",
   "metadata": {},
   "outputs": [
    {
     "name": "stderr",
     "output_type": "stream",
     "text": [
      "/tmp/ipykernel_532091/2270231998.py:10: FutureWarning: The default value of regex will change from True to False in a future version.\n",
      "  meta = feat_area.columns.str.replace('.mzXML Peak area', '').str.split('_').tolist()\n",
      "/tmp/ipykernel_532091/2270231998.py:29: FutureWarning: The default value of regex will change from True to False in a future version.\n",
      "  y = feat_area.index.str.replace('[^0-9]', '').str.replace('^$', '0').tolist()\n"
     ]
    },
    {
     "name": "stdout",
     "output_type": "stream",
     "text": [
      "CPU times: user 12.2 s, sys: 26.5 ms, total: 12.2 s\n",
      "Wall time: 12.4 s\n"
     ]
    }
   ],
   "source": [
    "%%time\n",
    "sel010ms2 = filterFeatures('feat_finding/features_ms1_ms2_010.csv')"
   ]
  },
  {
   "cell_type": "code",
   "execution_count": 141,
   "id": "87386f3e",
   "metadata": {},
   "outputs": [
    {
     "data": {
      "text/plain": [
       "17660"
      ]
     },
     "execution_count": 141,
     "metadata": {},
     "output_type": "execute_result"
    }
   ],
   "source": [
    "len(sel010ms2)"
   ]
  },
  {
   "cell_type": "code",
   "execution_count": 142,
   "id": "af57c8b0",
   "metadata": {},
   "outputs": [
    {
     "data": {
      "text/plain": [
       "198"
      ]
     },
     "execution_count": 142,
     "metadata": {},
     "output_type": "execute_result"
    }
   ],
   "source": [
    "sel010ms2.sum()"
   ]
  },
  {
   "cell_type": "code",
   "execution_count": 151,
   "id": "205a0154",
   "metadata": {},
   "outputs": [
    {
     "data": {
      "text/plain": [
       "0            0\n",
       "1            1\n",
       "2            2\n",
       "3            3\n",
       "4            4\n",
       "         ...  \n",
       "82294    82294\n",
       "82295    82295\n",
       "82296    82296\n",
       "82297    82297\n",
       "82298    82298\n",
       "Length: 82299, dtype: int64"
      ]
     },
     "execution_count": 151,
     "metadata": {},
     "output_type": "execute_result"
    }
   ],
   "source": [
    "feat_area.apply(lambda a: a.name)"
   ]
  },
  {
   "cell_type": "code",
   "execution_count": 8,
   "id": "976e3d82",
   "metadata": {},
   "outputs": [],
   "source": [
    "class Filter:\n",
    "    def __init__(self, features):\n",
    "        \"\"\" Filter by regression\n",
    "        Returns\n",
    "        -------\n",
    "        feature  :  feature file or table\n",
    "        \"\"\"\n",
    "        self.features = features\n",
    "    \n",
    "            \n",
    "    def formatFeatures(self, col_pattern='Peak area', meta=None, \n",
    "                       norm=True):\n",
    "        if type(self.features)==str:\n",
    "            feat_tab = pd.read_csv(self.features)\n",
    "        else:\n",
    "            feat_tab = self.features\n",
    "\n",
    "        feat_area = feat_tab.copy()[feat_tab.columns[feat_tab.columns.str.contains(col_pattern)]]\n",
    "        if meta is None:\n",
    "            meta = feat_area.columns.str.replace('.mzXML Peak area', '').str.split('_').tolist()\n",
    "            # assumes DILX dilution factor is on position 3\n",
    "            meta = [x[2] for x in meta]\n",
    "\n",
    "        # Normalize samples\n",
    "        # scale?\n",
    "        if norm:\n",
    "            feat_area = feat_area.apply(lambda a: a/a.sum())\n",
    "\n",
    "        # move features to columns and adds metadata\n",
    "        feat_area = feat_area.T\n",
    "        feat_area.reset_index(inplace=True, drop=True)\n",
    "        feat_area['Groups'] = meta\n",
    "\n",
    "        # Average technical replicates\n",
    "        feat_area = feat_area.groupby('Groups').mean()\n",
    "\n",
    "        # Assumes number describing increasing or decreacing ibdex for dilution\n",
    "        # here ORI is used for original sample\n",
    "        y = feat_area.index.str.replace('[^0-9]', '').str.replace('^$', '0').tolist()\n",
    "        y = np.array([float(i) for i in y]).reshape(-1, 1)\n",
    "\n",
    "        self.feat_tab = feat_tab\n",
    "        self.feat_area = feat_area\n",
    "        self.y = y \n",
    "\n",
    "        \n",
    "    def filterReg(self, feat_idx, r2=0.9, sig='-', \n",
    "                  plot=False):\n",
    "        X = self.feat_area[feat_idx].to_numpy()\n",
    "        y = self.y\n",
    "        \n",
    "        X = X.reshape(-1, 1)\n",
    "        reg = LinearRegression()\n",
    "        reg.fit(X, y)\n",
    "        sc = reg.score(X, y)\n",
    "        b1 = reg.coef_[0][0]\n",
    "\n",
    "        if plot:\n",
    "            plt.scatter(y, X)\n",
    "\n",
    "            plt.plot(reg.predict(X), X)\n",
    "\n",
    "            plt.ylabel('Área Normalizada')\n",
    "            plt.xlabel('Diluição')\n",
    "\n",
    "            plt.xticks([0, 1, 2, 3, 4], ['0', '1', '2', '3', '4'])\n",
    "\n",
    "        if sig=='-':\n",
    "            if sc > r2 and b1 < 0:\n",
    "                return 1\n",
    "            else:\n",
    "                return 0\n",
    "        else:\n",
    "            if sc > r2 and b1 > 0:\n",
    "                return 1\n",
    "            else:\n",
    "                return 0\n",
    "    \n",
    "        \n",
    "    def filterFeatures(self, r2=0.9, sig='-'):\n",
    "        sel = self.feat_area.apply(lambda a: self.filterReg(a.name, r2=r2, sig=sig))\n",
    "        \n",
    "        self.sel = sel\n",
    "        \n",
    "        print('Numeber of fearures:', len(sel))\n",
    "        print('Numeber of fearures after filtering:', sel.sum())    \n"
   ]
  },
  {
   "cell_type": "code",
   "execution_count": 9,
   "id": "de798fda",
   "metadata": {},
   "outputs": [
    {
     "name": "stderr",
     "output_type": "stream",
     "text": [
      "/tmp/ipykernel_536420/4029290658.py:20: FutureWarning: The default value of regex will change from True to False in a future version.\n",
      "  meta = feat_area.columns.str.replace('.mzXML Peak area', '').str.split('_').tolist()\n",
      "/tmp/ipykernel_536420/4029290658.py:39: FutureWarning: The default value of regex will change from True to False in a future version.\n",
      "  y = feat_area.index.str.replace('[^0-9]', '').str.replace('^$', '0').tolist()\n"
     ]
    },
    {
     "data": {
      "text/plain": [
       "(5, 82299)"
      ]
     },
     "execution_count": 9,
     "metadata": {},
     "output_type": "execute_result"
    }
   ],
   "source": [
    "samp_010 = Filter('feat_finding/features_010.csv')\n",
    "samp_010.formatFeatures()\n",
    "\n",
    "samp_010.feat_area.shape"
   ]
  },
  {
   "cell_type": "code",
   "execution_count": 10,
   "id": "d079829f",
   "metadata": {},
   "outputs": [
    {
     "name": "stdout",
     "output_type": "stream",
     "text": [
      "Numeber of fearures: 82299\n",
      "Numeber of fearures after filtering: 1593\n",
      "CPU times: user 1min, sys: 198 ms, total: 1min\n",
      "Wall time: 1min 1s\n"
     ]
    }
   ],
   "source": [
    "%%time\n",
    "\n",
    "samp_010.filterFeatures()"
   ]
  },
  {
   "cell_type": "code",
   "execution_count": 11,
   "id": "0fcce3ec",
   "metadata": {},
   "outputs": [
    {
     "name": "stderr",
     "output_type": "stream",
     "text": [
      "/tmp/ipykernel_536420/4029290658.py:20: FutureWarning: The default value of regex will change from True to False in a future version.\n",
      "  meta = feat_area.columns.str.replace('.mzXML Peak area', '').str.split('_').tolist()\n",
      "/tmp/ipykernel_536420/4029290658.py:39: FutureWarning: The default value of regex will change from True to False in a future version.\n",
      "  y = feat_area.index.str.replace('[^0-9]', '').str.replace('^$', '0').tolist()\n"
     ]
    },
    {
     "data": {
      "text/html": [
       "<div>\n",
       "<style scoped>\n",
       "    .dataframe tbody tr th:only-of-type {\n",
       "        vertical-align: middle;\n",
       "    }\n",
       "\n",
       "    .dataframe tbody tr th {\n",
       "        vertical-align: top;\n",
       "    }\n",
       "\n",
       "    .dataframe thead th {\n",
       "        text-align: right;\n",
       "    }\n",
       "</style>\n",
       "<table border=\"1\" class=\"dataframe\">\n",
       "  <thead>\n",
       "    <tr style=\"text-align: right;\">\n",
       "      <th></th>\n",
       "      <th>0</th>\n",
       "      <th>1</th>\n",
       "      <th>2</th>\n",
       "      <th>3</th>\n",
       "      <th>4</th>\n",
       "      <th>5</th>\n",
       "      <th>6</th>\n",
       "      <th>7</th>\n",
       "      <th>8</th>\n",
       "      <th>9</th>\n",
       "      <th>...</th>\n",
       "      <th>17650</th>\n",
       "      <th>17651</th>\n",
       "      <th>17652</th>\n",
       "      <th>17653</th>\n",
       "      <th>17654</th>\n",
       "      <th>17655</th>\n",
       "      <th>17656</th>\n",
       "      <th>17657</th>\n",
       "      <th>17658</th>\n",
       "      <th>17659</th>\n",
       "    </tr>\n",
       "    <tr>\n",
       "      <th>Groups</th>\n",
       "      <th></th>\n",
       "      <th></th>\n",
       "      <th></th>\n",
       "      <th></th>\n",
       "      <th></th>\n",
       "      <th></th>\n",
       "      <th></th>\n",
       "      <th></th>\n",
       "      <th></th>\n",
       "      <th></th>\n",
       "      <th></th>\n",
       "      <th></th>\n",
       "      <th></th>\n",
       "      <th></th>\n",
       "      <th></th>\n",
       "      <th></th>\n",
       "      <th></th>\n",
       "      <th></th>\n",
       "      <th></th>\n",
       "      <th></th>\n",
       "      <th></th>\n",
       "    </tr>\n",
       "  </thead>\n",
       "  <tbody>\n",
       "    <tr>\n",
       "      <th>DIL1</th>\n",
       "      <td>0.047069</td>\n",
       "      <td>0.039578</td>\n",
       "      <td>1.368751e-05</td>\n",
       "      <td>0.000200</td>\n",
       "      <td>0.000000</td>\n",
       "      <td>0.000561</td>\n",
       "      <td>0.015941</td>\n",
       "      <td>7.397666e-07</td>\n",
       "      <td>0.001084</td>\n",
       "      <td>0.000078</td>\n",
       "      <td>...</td>\n",
       "      <td>7.473325e-07</td>\n",
       "      <td>1.099596e-06</td>\n",
       "      <td>4.533948e-06</td>\n",
       "      <td>2.771329e-06</td>\n",
       "      <td>0.000000</td>\n",
       "      <td>5.518408e-07</td>\n",
       "      <td>0.000082</td>\n",
       "      <td>7.921996e-07</td>\n",
       "      <td>0.000003</td>\n",
       "      <td>3.976052e-07</td>\n",
       "    </tr>\n",
       "    <tr>\n",
       "      <th>DIL2</th>\n",
       "      <td>0.063089</td>\n",
       "      <td>0.054917</td>\n",
       "      <td>2.235186e-05</td>\n",
       "      <td>0.000228</td>\n",
       "      <td>0.000384</td>\n",
       "      <td>0.000132</td>\n",
       "      <td>0.021185</td>\n",
       "      <td>5.349946e-06</td>\n",
       "      <td>0.000018</td>\n",
       "      <td>0.000001</td>\n",
       "      <td>...</td>\n",
       "      <td>1.521468e-07</td>\n",
       "      <td>3.308884e-06</td>\n",
       "      <td>4.852007e-06</td>\n",
       "      <td>1.449050e-06</td>\n",
       "      <td>0.000000</td>\n",
       "      <td>2.686456e-07</td>\n",
       "      <td>0.000048</td>\n",
       "      <td>7.881447e-07</td>\n",
       "      <td>0.000006</td>\n",
       "      <td>2.976887e-05</td>\n",
       "    </tr>\n",
       "    <tr>\n",
       "      <th>DIL3</th>\n",
       "      <td>0.074994</td>\n",
       "      <td>0.125128</td>\n",
       "      <td>3.751401e-06</td>\n",
       "      <td>0.000185</td>\n",
       "      <td>0.000000</td>\n",
       "      <td>0.000035</td>\n",
       "      <td>0.024948</td>\n",
       "      <td>1.460994e-06</td>\n",
       "      <td>0.000004</td>\n",
       "      <td>0.000002</td>\n",
       "      <td>...</td>\n",
       "      <td>7.893619e-08</td>\n",
       "      <td>7.146854e-07</td>\n",
       "      <td>9.284399e-07</td>\n",
       "      <td>5.053285e-07</td>\n",
       "      <td>0.000000</td>\n",
       "      <td>1.121737e-07</td>\n",
       "      <td>0.000015</td>\n",
       "      <td>6.451143e-07</td>\n",
       "      <td>0.000002</td>\n",
       "      <td>1.938505e-06</td>\n",
       "    </tr>\n",
       "    <tr>\n",
       "      <th>DIL4</th>\n",
       "      <td>0.096498</td>\n",
       "      <td>0.097234</td>\n",
       "      <td>5.572142e-03</td>\n",
       "      <td>0.004112</td>\n",
       "      <td>0.003428</td>\n",
       "      <td>0.003013</td>\n",
       "      <td>0.032493</td>\n",
       "      <td>2.333102e-03</td>\n",
       "      <td>0.003532</td>\n",
       "      <td>0.002974</td>\n",
       "      <td>...</td>\n",
       "      <td>6.544095e-08</td>\n",
       "      <td>2.902380e-06</td>\n",
       "      <td>6.851786e-07</td>\n",
       "      <td>4.378520e-07</td>\n",
       "      <td>0.000000</td>\n",
       "      <td>1.321273e-07</td>\n",
       "      <td>0.000002</td>\n",
       "      <td>7.970637e-07</td>\n",
       "      <td>0.000000</td>\n",
       "      <td>8.497244e-06</td>\n",
       "    </tr>\n",
       "    <tr>\n",
       "      <th>ORIG</th>\n",
       "      <td>0.045736</td>\n",
       "      <td>0.042336</td>\n",
       "      <td>9.277003e-08</td>\n",
       "      <td>0.001364</td>\n",
       "      <td>0.000167</td>\n",
       "      <td>0.000000</td>\n",
       "      <td>0.015383</td>\n",
       "      <td>0.000000e+00</td>\n",
       "      <td>0.000929</td>\n",
       "      <td>0.000636</td>\n",
       "      <td>...</td>\n",
       "      <td>2.578365e-06</td>\n",
       "      <td>1.892756e-07</td>\n",
       "      <td>0.000000e+00</td>\n",
       "      <td>1.620035e-07</td>\n",
       "      <td>0.000008</td>\n",
       "      <td>1.082038e-06</td>\n",
       "      <td>0.000014</td>\n",
       "      <td>5.251388e-06</td>\n",
       "      <td>0.000014</td>\n",
       "      <td>0.000000e+00</td>\n",
       "    </tr>\n",
       "  </tbody>\n",
       "</table>\n",
       "<p>5 rows × 17660 columns</p>\n",
       "</div>"
      ],
      "text/plain": [
       "           0         1             2         3         4         5      \\\n",
       "Groups                                                                   \n",
       "DIL1    0.047069  0.039578  1.368751e-05  0.000200  0.000000  0.000561   \n",
       "DIL2    0.063089  0.054917  2.235186e-05  0.000228  0.000384  0.000132   \n",
       "DIL3    0.074994  0.125128  3.751401e-06  0.000185  0.000000  0.000035   \n",
       "DIL4    0.096498  0.097234  5.572142e-03  0.004112  0.003428  0.003013   \n",
       "ORIG    0.045736  0.042336  9.277003e-08  0.001364  0.000167  0.000000   \n",
       "\n",
       "           6             7         8         9      ...         17650  \\\n",
       "Groups                                              ...                 \n",
       "DIL1    0.015941  7.397666e-07  0.001084  0.000078  ...  7.473325e-07   \n",
       "DIL2    0.021185  5.349946e-06  0.000018  0.000001  ...  1.521468e-07   \n",
       "DIL3    0.024948  1.460994e-06  0.000004  0.000002  ...  7.893619e-08   \n",
       "DIL4    0.032493  2.333102e-03  0.003532  0.002974  ...  6.544095e-08   \n",
       "ORIG    0.015383  0.000000e+00  0.000929  0.000636  ...  2.578365e-06   \n",
       "\n",
       "               17651         17652         17653     17654         17655  \\\n",
       "Groups                                                                     \n",
       "DIL1    1.099596e-06  4.533948e-06  2.771329e-06  0.000000  5.518408e-07   \n",
       "DIL2    3.308884e-06  4.852007e-06  1.449050e-06  0.000000  2.686456e-07   \n",
       "DIL3    7.146854e-07  9.284399e-07  5.053285e-07  0.000000  1.121737e-07   \n",
       "DIL4    2.902380e-06  6.851786e-07  4.378520e-07  0.000000  1.321273e-07   \n",
       "ORIG    1.892756e-07  0.000000e+00  1.620035e-07  0.000008  1.082038e-06   \n",
       "\n",
       "           17656         17657     17658         17659  \n",
       "Groups                                                  \n",
       "DIL1    0.000082  7.921996e-07  0.000003  3.976052e-07  \n",
       "DIL2    0.000048  7.881447e-07  0.000006  2.976887e-05  \n",
       "DIL3    0.000015  6.451143e-07  0.000002  1.938505e-06  \n",
       "DIL4    0.000002  7.970637e-07  0.000000  8.497244e-06  \n",
       "ORIG    0.000014  5.251388e-06  0.000014  0.000000e+00  \n",
       "\n",
       "[5 rows x 17660 columns]"
      ]
     },
     "execution_count": 11,
     "metadata": {},
     "output_type": "execute_result"
    }
   ],
   "source": [
    "samp_010ms2 = Filter('feat_finding/features_ms1_ms2_010.csv')\n",
    "samp_010ms2.formatFeatures()\n",
    "\n",
    "samp_010ms2.feat_area"
   ]
  },
  {
   "cell_type": "code",
   "execution_count": 12,
   "id": "39f52cde",
   "metadata": {},
   "outputs": [
    {
     "data": {
      "text/plain": [
       "array([[1.],\n",
       "       [2.],\n",
       "       [3.],\n",
       "       [4.],\n",
       "       [0.]])"
      ]
     },
     "execution_count": 12,
     "metadata": {},
     "output_type": "execute_result"
    }
   ],
   "source": [
    "samp_010ms2.y"
   ]
  },
  {
   "cell_type": "code",
   "execution_count": 17,
   "id": "5ec23cd0",
   "metadata": {},
   "outputs": [
    {
     "name": "stdout",
     "output_type": "stream",
     "text": [
      "Numeber of fearures: 17660\n",
      "Numeber of fearures after filtering: 198\n",
      "CPU times: user 11.7 s, sys: 224 µs, total: 11.7 s\n",
      "Wall time: 11.7 s\n"
     ]
    }
   ],
   "source": [
    "%%time\n",
    "\n",
    "samp_010ms2.filterFeatures()"
   ]
  },
  {
   "cell_type": "code",
   "execution_count": 19,
   "id": "98b1f4c1",
   "metadata": {},
   "outputs": [
    {
     "data": {
      "text/plain": [
       "1371     1\n",
       "2825     1\n",
       "2900     1\n",
       "3099     1\n",
       "3196     1\n",
       "        ..\n",
       "17615    1\n",
       "17627    1\n",
       "17634    1\n",
       "17636    1\n",
       "17647    1\n",
       "Length: 198, dtype: int64"
      ]
     },
     "execution_count": 19,
     "metadata": {},
     "output_type": "execute_result"
    }
   ],
   "source": [
    "samp_010ms2.sel[samp_010ms2.sel==1]"
   ]
  },
  {
   "cell_type": "code",
   "execution_count": 21,
   "id": "87f8340c",
   "metadata": {},
   "outputs": [
    {
     "data": {
      "text/plain": [
       "1"
      ]
     },
     "execution_count": 21,
     "metadata": {},
     "output_type": "execute_result"
    },
    {
     "data": {
      "image/png": "[encoded data removed]",
      "text/plain": [
       "<Figure size 432x288 with 1 Axes>"
      ]
     },
     "metadata": {
      "needs_background": "light"
     },
     "output_type": "display_data"
    }
   ],
   "source": [
    "samp_010ms2.filterReg(1371, plot=True)"
   ]
  },
  {
   "cell_type": "code",
   "execution_count": 22,
   "id": "bbee3c1d",
   "metadata": {},
   "outputs": [
    {
     "data": {
      "text/plain": [
       "1"
      ]
     },
     "execution_count": 22,
     "metadata": {},
     "output_type": "execute_result"
    },
    {
     "data": {
      "image/png": "[encoded data removed]",
      "text/plain": [
       "<Figure size 432x288 with 1 Axes>"
      ]
     },
     "metadata": {
      "needs_background": "light"
     },
     "output_type": "display_data"
    }
   ],
   "source": [
    "samp_010ms2.filterReg(17647, plot=True)"
   ]
  },
  {
   "cell_type": "code",
   "execution_count": null,
   "id": "fb0d284b",
   "metadata": {},
   "outputs": [],
   "source": []
  }
 ],
 "metadata": {
  "kernelspec": {
   "display_name": "Python 3 (ipykernel)",
   "language": "python",
   "name": "python3"
  },
  "language_info": {
   "codemirror_mode": {
    "name": "ipython",
    "version": 3
   },
   "file_extension": ".py",
   "mimetype": "text/x-python",
   "name": "python",
   "nbconvert_exporter": "python",
   "pygments_lexer": "ipython3",
   "version": "3.9.6"
  }
 },
 "nbformat": 4,
 "nbformat_minor": 5
}

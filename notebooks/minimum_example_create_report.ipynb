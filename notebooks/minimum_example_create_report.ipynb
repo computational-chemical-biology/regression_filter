{
  "cells": [
    {
      "cell_type": "code",
      "execution_count": null,
      "metadata": {
        "id": "lIYdn1woOS1n"
      },
      "outputs": [],
      "source": [
        "import os\n",
        "from regFilter.filter import *\n",
        "from regFilter.spectra import *"
      ]
    },
    {
      "cell_type": "code",
      "source": [
        "quant = 'feat_finding/features_010.csv'\n",
        "samp = Filter(quant)\n",
        "samp.formatFeatures()\n",
        "samp.filterFeatures()\n",
        "# Numeber of fearures: 82299\n",
        "# Numeber of fearures after filtering: 1593"
      ],
      "metadata": {
        "id": "Tkcr0_NXaKNO"
      },
      "execution_count": null,
      "outputs": []
    },
    {
      "cell_type": "code",
      "source": [
        "samp.feat_tab.head()"
      ],
      "metadata": {
        "id": "xaY1-NvlakZS"
      },
      "execution_count": null,
      "outputs": []
    },
    {
      "cell_type": "code",
      "source": [
        "fnames = samp.feat_tab.columns\n",
        "fnames = fnames[fnames.str.contains('Peak area')].str.replace(' Peak area', '').tolist()"
      ],
      "metadata": {
        "id": "7AXbIztLalDB"
      },
      "execution_count": null,
      "outputs": []
    },
    {
      "cell_type": "code",
      "source": [
        "path = 'MS1/'\n",
        "# Select small example of five features\n",
        "stab = samp.feat_tab[samp.sel==1].head()"
      ],
      "metadata": {
        "id": "XP8uUsUgauI4"
      },
      "execution_count": null,
      "outputs": []
    },
    {
      "cell_type": "code",
      "source": [
        "if not os.path.exists('figs'):\n",
        "    os.mkdir('figs')\n",
        "\n",
        "for i in stab.index:\n",
        "  overlayXIC(fnames, path, mz=stab.loc[i, 'row m/z'], rt=stab.loc[i, 'row retention time']*60, \n",
        "             fsz=10, type='TI', ppm=15, save=True, out=f\"figs/{stab.loc[i,'row ID']}.png\")"
      ],
      "metadata": {
        "id": "aSq1mvJ9bZ57"
      },
      "execution_count": null,
      "outputs": []
    },
    {
      "cell_type": "code",
      "source": [
        "from regFilter.create_report import *"
      ],
      "metadata": {
        "id": "arvqgpWIbeFb"
      },
      "execution_count": null,
      "outputs": []
    },
    {
      "cell_type": "code",
      "source": [
        "stab2 = stab[['row ID', 'row m/z', 'row retention time']].copy()\n",
        "create_report(stab2)\n",
        "# shold create regfilter_report.html file"
      ],
      "metadata": {
        "id": "d8NxGbXAbpk8"
      },
      "execution_count": null,
      "outputs": []
    }
  ],
  "metadata": {
    "colab": {
      "name": "scratchpad",
      "provenance": []
    },
    "kernelspec": {
      "display_name": "Python 3",
      "name": "python3"
    }
  },
  "nbformat": 4,
  "nbformat_minor": 0
}
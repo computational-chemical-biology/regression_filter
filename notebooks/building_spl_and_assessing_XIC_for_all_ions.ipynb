{
 "cells": [
  {
   "cell_type": "markdown",
   "id": "bf08a728",
   "metadata": {},
   "source": [
    "### Using imported functions from libraries"
   ]
  },
  {
   "cell_type": "code",
   "execution_count": 1,
   "id": "3bbb6057",
   "metadata": {},
   "outputs": [],
   "source": [
    "import os\n",
    "from regFilter.filter import *\n",
    "from regFilter.spectra import *\n",
    "from regFilter.utils import *"
   ]
  },
  {
   "cell_type": "markdown",
   "id": "fa37dc5d",
   "metadata": {},
   "source": [
    "### Generating the filter for the number of desired points (npts=)"
   ]
  },
  {
   "cell_type": "code",
   "execution_count": 2,
   "id": "cc28590c",
   "metadata": {},
   "outputs": [
    {
     "name": "stderr",
     "output_type": "stream",
     "text": [
      "/home/gabriel/anaconda3/envs/regfilter/lib/python3.9/site-packages/regFilter/filter.py:26: FutureWarning: The default value of regex will change from True to False in a future version.\n",
      "  meta = feat_area.columns.str.replace('.mzXML Peak area', '').str.split('_').tolist()\n",
      "/home/gabriel/anaconda3/envs/regfilter/lib/python3.9/site-packages/regFilter/filter.py:45: FutureWarning: The default value of regex will change from True to False in a future version.\n",
      "  y = feat_area.index.str.replace('[^0-9]', '').str.replace('^$', '0').tolist()\n"
     ]
    },
    {
     "name": "stdout",
     "output_type": "stream",
     "text": [
      "Number of features: 1384\n",
      "Number of features after filtering: 135\n"
     ]
    }
   ],
   "source": [
    "quant = '/user/data/file.csv'\n",
    "samp = Filter(quant)\n",
    "samp.formatFeatures()\n",
    "samp.filterFeatures(npts=3, quant=quant)"
   ]
  },
  {
   "cell_type": "code",
   "execution_count": null,
   "id": "93a0e8e6",
   "metadata": {},
   "outputs": [],
   "source": [
    "full_scan = pd.read_csv('user/.csv/data/')\n",
    "\n",
    "qlist = []\n",
    "\n",
    "for q in samp.sel[samp.sel==1].index:\n",
    "    qlist.append(matchFeats(samp.feat_tab.loc[q, ['row ID', 'row m/z', 'row retention time']], full_scan))"
   ]
  },
  {
   "cell_type": "code",
   "execution_count": null,
   "id": "a43853d1",
   "metadata": {},
   "outputs": [],
   "source": [
    "qtab = pd.concat(qlist).reset_index()\n",
    "len(qtab['q-id'].unique())"
   ]
  },
  {
   "cell_type": "code",
   "execution_count": null,
   "id": "62df3cfc",
   "metadata": {},
   "outputs": [],
   "source": [
    "fnames = samp.feat_tab.columns\n",
    "fnames = fnames[fnames.str.contains('Peak area')].str.replace(' Peak area', '').tolist()\n",
    "fnames"
   ]
  },
  {
   "cell_type": "code",
   "execution_count": null,
   "id": "9fc99c8e",
   "metadata": {},
   "outputs": [],
   "source": [
    "path = 'raw/data/path/'\n",
    "\n",
    "for fn in fnames:\n",
    "    continue"
   ]
  },
  {
   "cell_type": "code",
   "execution_count": null,
   "id": "c60c9aaf",
   "metadata": {},
   "outputs": [],
   "source": [
    "qunique = qtab[qtab.columns[4:7]].drop_duplicates()\n",
    "qunique"
   ]
  },
  {
   "cell_type": "code",
   "execution_count": null,
   "id": "e3b0fa87",
   "metadata": {},
   "outputs": [],
   "source": [
    "%%time\n",
    "\n",
    "for unique in qunique.index:\n",
    "    overlayXIC(fnames, path, mz=qunique['q-m/z'][unique], rt=qunique['q-rt'][unique]*60, save=True, out='/home/gabriel/raw_data/2022_08_25/25-08-22_FULLSCAN/mzXML_files/images_xic_dilution_serie_npt=5/'+str(qunique['q-m/z'][unique])+'.pdf', fsz=5, type='TI', ppm=15)"
   ]
  },
  {
   "cell_type": "code",
   "execution_count": null,
   "id": "545f7408",
   "metadata": {},
   "outputs": [],
   "source": []
  }
 ],
 "metadata": {
  "kernelspec": {
   "display_name": "Python 3 (ipykernel)",
   "language": "python",
   "name": "python3"
  },
  "language_info": {
   "codemirror_mode": {
    "name": "ipython",
    "version": 3
   },
   "file_extension": ".py",
   "mimetype": "text/x-python",
   "name": "python",
   "nbconvert_exporter": "python",
   "pygments_lexer": "ipython3",
   "version": "3.9.6"
  }
 },
 "nbformat": 4,
 "nbformat_minor": 5
}
